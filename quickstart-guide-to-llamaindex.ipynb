{
  "cells": [
    {
      "cell_type": "markdown",
      "metadata": {
        "id": "uPj2svIG0XDk"
      },
      "source": [
        "# LLamaIndex- Quickstart Guide\n",
        "\n",
        "## Installation"
      ]
    },
    {
      "cell_type": "code",
      "execution_count": 11,
      "metadata": {
        "colab": {
          "base_uri": "https://localhost:8080/"
        },
        "id": "K0fyvuwZBNQy",
        "outputId": "b5c2da15-7138-41ad-f64d-384fee04e4ba"
      },
      "outputs": [
        {
          "name": "stdout",
          "output_type": "stream",
          "text": [
            "Defaulting to user installation because normal site-packages is not writeable\n",
            "Requirement already satisfied: llama-index in /Users/neetigoenka/Library/Python/3.9/lib/python/site-packages (0.8.44)\n",
            "Requirement already satisfied: sentence-transformers in /Users/neetigoenka/Library/Python/3.9/lib/python/site-packages (2.2.2)\n",
            "Requirement already satisfied: openai in /Users/neetigoenka/Library/Python/3.9/lib/python/site-packages (0.28.1)\n",
            "Requirement already satisfied: SQLAlchemy[asyncio]>=1.4.49 in /Users/neetigoenka/Library/Python/3.9/lib/python/site-packages (from llama-index) (2.0.21)\n",
            "Requirement already satisfied: nest-asyncio<2.0.0,>=1.5.8 in /Users/neetigoenka/Library/Python/3.9/lib/python/site-packages (from llama-index) (1.5.8)\n",
            "Requirement already satisfied: nltk<4.0.0,>=3.8.1 in /Users/neetigoenka/Library/Python/3.9/lib/python/site-packages (from llama-index) (3.8.1)\n",
            "Requirement already satisfied: dataclasses-json<0.6.0,>=0.5.7 in /Users/neetigoenka/Library/Python/3.9/lib/python/site-packages (from llama-index) (0.5.14)\n",
            "Requirement already satisfied: tenacity<9.0.0,>=8.2.0 in /Users/neetigoenka/Library/Python/3.9/lib/python/site-packages (from llama-index) (8.2.2)\n",
            "Requirement already satisfied: numpy in /Users/neetigoenka/Library/Python/3.9/lib/python/site-packages (from llama-index) (1.24.2)\n",
            "Requirement already satisfied: tiktoken>=0.3.3 in /Users/neetigoenka/Library/Python/3.9/lib/python/site-packages (from llama-index) (0.5.1)\n",
            "Requirement already satisfied: typing-extensions>=4.5.0 in /Users/neetigoenka/Library/Python/3.9/lib/python/site-packages (from llama-index) (4.8.0)\n",
            "Requirement already satisfied: urllib3<2 in /Users/neetigoenka/Library/Python/3.9/lib/python/site-packages (from llama-index) (1.26.15)\n",
            "Requirement already satisfied: langchain>=0.0.303 in /Users/neetigoenka/Library/Python/3.9/lib/python/site-packages (from llama-index) (0.0.312)\n",
            "Requirement already satisfied: pandas in /Users/neetigoenka/Library/Python/3.9/lib/python/site-packages (from llama-index) (1.5.3)\n",
            "Requirement already satisfied: fsspec>=2023.5.0 in /Users/neetigoenka/Library/Python/3.9/lib/python/site-packages (from llama-index) (2023.6.0)\n",
            "Requirement already satisfied: typing-inspect>=0.8.0 in /Users/neetigoenka/Library/Python/3.9/lib/python/site-packages (from llama-index) (0.9.0)\n",
            "Requirement already satisfied: torch>=1.6.0 in /Users/neetigoenka/Library/Python/3.9/lib/python/site-packages (from sentence-transformers) (2.0.0)\n",
            "Requirement already satisfied: scipy in /Users/neetigoenka/Library/Python/3.9/lib/python/site-packages (from sentence-transformers) (1.11.3)\n",
            "Requirement already satisfied: scikit-learn in /Users/neetigoenka/Library/Python/3.9/lib/python/site-packages (from sentence-transformers) (1.2.2)\n",
            "Requirement already satisfied: sentencepiece in /Users/neetigoenka/Library/Python/3.9/lib/python/site-packages (from sentence-transformers) (0.1.99)\n",
            "Requirement already satisfied: torchvision in /Users/neetigoenka/Library/Python/3.9/lib/python/site-packages (from sentence-transformers) (0.15.1)\n",
            "Requirement already satisfied: tqdm in /Users/neetigoenka/Library/Python/3.9/lib/python/site-packages (from sentence-transformers) (4.65.0)\n",
            "Requirement already satisfied: huggingface-hub>=0.4.0 in /Users/neetigoenka/Library/Python/3.9/lib/python/site-packages (from sentence-transformers) (0.17.3)\n",
            "Requirement already satisfied: transformers<5.0.0,>=4.6.0 in /Users/neetigoenka/Library/Python/3.9/lib/python/site-packages (from sentence-transformers) (4.35.0.dev0)\n",
            "Requirement already satisfied: requests>=2.20 in /Users/neetigoenka/Library/Python/3.9/lib/python/site-packages (from openai) (2.28.2)\n",
            "Requirement already satisfied: aiohttp in /Users/neetigoenka/Library/Python/3.9/lib/python/site-packages (from openai) (3.8.6)\n",
            "Requirement already satisfied: marshmallow<4.0.0,>=3.18.0 in /Users/neetigoenka/Library/Python/3.9/lib/python/site-packages (from dataclasses-json<0.6.0,>=0.5.7->llama-index) (3.20.1)\n",
            "Requirement already satisfied: pyyaml>=5.1 in /Users/neetigoenka/Library/Python/3.9/lib/python/site-packages (from huggingface-hub>=0.4.0->sentence-transformers) (6.0)\n",
            "Requirement already satisfied: packaging>=20.9 in /Users/neetigoenka/Library/Python/3.9/lib/python/site-packages (from huggingface-hub>=0.4.0->sentence-transformers) (23.0)\n",
            "Requirement already satisfied: filelock in /Users/neetigoenka/Library/Python/3.9/lib/python/site-packages (from huggingface-hub>=0.4.0->sentence-transformers) (3.10.1)\n",
            "Requirement already satisfied: async-timeout<5.0.0,>=4.0.0 in /Users/neetigoenka/Library/Python/3.9/lib/python/site-packages (from langchain>=0.0.303->llama-index) (4.0.3)\n",
            "Requirement already satisfied: langsmith<0.1.0,>=0.0.43 in /Users/neetigoenka/Library/Python/3.9/lib/python/site-packages (from langchain>=0.0.303->llama-index) (0.0.43)\n",
            "Requirement already satisfied: anyio<4.0 in /Users/neetigoenka/Library/Python/3.9/lib/python/site-packages (from langchain>=0.0.303->llama-index) (3.6.2)\n",
            "Requirement already satisfied: jsonpatch<2.0,>=1.33 in /Users/neetigoenka/Library/Python/3.9/lib/python/site-packages (from langchain>=0.0.303->llama-index) (1.33)\n",
            "Requirement already satisfied: pydantic<3,>=1 in /Users/neetigoenka/Library/Python/3.9/lib/python/site-packages (from langchain>=0.0.303->llama-index) (2.4.2)\n",
            "Requirement already satisfied: charset-normalizer<4.0,>=2.0 in /Users/neetigoenka/Library/Python/3.9/lib/python/site-packages (from aiohttp->openai) (3.1.0)\n",
            "Requirement already satisfied: aiosignal>=1.1.2 in /Users/neetigoenka/Library/Python/3.9/lib/python/site-packages (from aiohttp->openai) (1.3.1)\n",
            "Requirement already satisfied: multidict<7.0,>=4.5 in /Users/neetigoenka/Library/Python/3.9/lib/python/site-packages (from aiohttp->openai) (6.0.4)\n",
            "Requirement already satisfied: yarl<2.0,>=1.0 in /Users/neetigoenka/Library/Python/3.9/lib/python/site-packages (from aiohttp->openai) (1.9.2)\n",
            "Requirement already satisfied: attrs>=17.3.0 in /Users/neetigoenka/Library/Python/3.9/lib/python/site-packages (from aiohttp->openai) (22.2.0)\n",
            "Requirement already satisfied: frozenlist>=1.1.1 in /Users/neetigoenka/Library/Python/3.9/lib/python/site-packages (from aiohttp->openai) (1.4.0)\n",
            "Requirement already satisfied: idna>=2.8 in /Users/neetigoenka/Library/Python/3.9/lib/python/site-packages (from anyio<4.0->langchain>=0.0.303->llama-index) (3.4)\n",
            "Requirement already satisfied: sniffio>=1.1 in /Users/neetigoenka/Library/Python/3.9/lib/python/site-packages (from anyio<4.0->langchain>=0.0.303->llama-index) (1.3.0)\n",
            "Requirement already satisfied: jsonpointer>=1.9 in /Users/neetigoenka/Library/Python/3.9/lib/python/site-packages (from jsonpatch<2.0,>=1.33->langchain>=0.0.303->llama-index) (2.3)\n",
            "Requirement already satisfied: click in /Users/neetigoenka/Library/Python/3.9/lib/python/site-packages (from nltk<4.0.0,>=3.8.1->llama-index) (8.1.7)\n",
            "Requirement already satisfied: regex>=2021.8.3 in /Users/neetigoenka/Library/Python/3.9/lib/python/site-packages (from nltk<4.0.0,>=3.8.1->llama-index) (2023.10.3)\n",
            "Requirement already satisfied: joblib in /Users/neetigoenka/Library/Python/3.9/lib/python/site-packages (from nltk<4.0.0,>=3.8.1->llama-index) (1.2.0)\n",
            "Requirement already satisfied: annotated-types>=0.4.0 in /Users/neetigoenka/Library/Python/3.9/lib/python/site-packages (from pydantic<3,>=1->langchain>=0.0.303->llama-index) (0.6.0)\n",
            "Requirement already satisfied: pydantic-core==2.10.1 in /Users/neetigoenka/Library/Python/3.9/lib/python/site-packages (from pydantic<3,>=1->langchain>=0.0.303->llama-index) (2.10.1)\n",
            "Requirement already satisfied: certifi>=2017.4.17 in /Users/neetigoenka/Library/Python/3.9/lib/python/site-packages (from requests>=2.20->openai) (2022.12.7)\n",
            "Requirement already satisfied: greenlet!=0.4.17 in /Users/neetigoenka/Library/Python/3.9/lib/python/site-packages (from SQLAlchemy[asyncio]>=1.4.49->llama-index) (3.0.0)\n",
            "Requirement already satisfied: sympy in /Users/neetigoenka/Library/Python/3.9/lib/python/site-packages (from torch>=1.6.0->sentence-transformers) (1.11.1)\n",
            "Requirement already satisfied: networkx in /Users/neetigoenka/Library/Python/3.9/lib/python/site-packages (from torch>=1.6.0->sentence-transformers) (3.0)\n",
            "Requirement already satisfied: jinja2 in /Users/neetigoenka/Library/Python/3.9/lib/python/site-packages (from torch>=1.6.0->sentence-transformers) (3.1.2)\n",
            "Requirement already satisfied: safetensors>=0.3.1 in /Users/neetigoenka/Library/Python/3.9/lib/python/site-packages (from transformers<5.0.0,>=4.6.0->sentence-transformers) (0.4.0)\n",
            "Requirement already satisfied: tokenizers<0.15,>=0.14 in /Users/neetigoenka/Library/Python/3.9/lib/python/site-packages (from transformers<5.0.0,>=4.6.0->sentence-transformers) (0.14.1)\n",
            "Requirement already satisfied: mypy-extensions>=0.3.0 in /Users/neetigoenka/Library/Python/3.9/lib/python/site-packages (from typing-inspect>=0.8.0->llama-index) (1.0.0)\n",
            "Requirement already satisfied: MarkupSafe>=2.0 in /Users/neetigoenka/Library/Python/3.9/lib/python/site-packages (from jinja2->torch>=1.6.0->sentence-transformers) (2.1.2)\n",
            "Requirement already satisfied: python-dateutil>=2.8.1 in /Users/neetigoenka/Library/Python/3.9/lib/python/site-packages (from pandas->llama-index) (2.8.2)\n",
            "Requirement already satisfied: pytz>=2020.1 in /Users/neetigoenka/Library/Python/3.9/lib/python/site-packages (from pandas->llama-index) (2022.7.1)\n",
            "Requirement already satisfied: six>=1.5 in /Library/Developer/CommandLineTools/Library/Frameworks/Python3.framework/Versions/3.9/lib/python3.9/site-packages (from python-dateutil>=2.8.1->pandas->llama-index) (1.15.0)\n",
            "Requirement already satisfied: threadpoolctl>=2.0.0 in /Users/neetigoenka/Library/Python/3.9/lib/python/site-packages (from scikit-learn->sentence-transformers) (3.1.0)\n",
            "Requirement already satisfied: mpmath>=0.19 in /Users/neetigoenka/Library/Python/3.9/lib/python/site-packages (from sympy->torch>=1.6.0->sentence-transformers) (1.3.0)\n",
            "Requirement already satisfied: pillow!=8.3.*,>=5.3.0 in /Users/neetigoenka/Library/Python/3.9/lib/python/site-packages (from torchvision->sentence-transformers) (9.4.0)\n",
            "\u001b[33mWARNING: You are using pip version 21.2.4; however, version 23.2.1 is available.\n",
            "You should consider upgrading via the '/Library/Developer/CommandLineTools/usr/bin/python3 -m pip install --upgrade pip' command.\u001b[0m\n",
            "Defaulting to user installation because normal site-packages is not writeable\n",
            "Collecting llama-cpp-python\n",
            "  Downloading llama_cpp_python-0.2.11.tar.gz (3.6 MB)\n",
            "\u001b[K     |████████████████████████████████| 3.6 MB 1.5 MB/s eta 0:00:01\n",
            "\u001b[?25h\u001b[33m  WARNING: Value for prefixed-purelib does not match. Please report this to <https://github.com/pypa/pip/issues/10151>\n",
            "  distutils: /private/var/folders/sm/n2hk31c12wv5pm94flx90n4m0000gn/T/pip-build-env-_agt4cgo/normal/lib/python3.9/site-packages\n",
            "  sysconfig: /Library/Python/3.9/site-packages\u001b[0m\n",
            "\u001b[33m  WARNING: Value for prefixed-platlib does not match. Please report this to <https://github.com/pypa/pip/issues/10151>\n",
            "  distutils: /private/var/folders/sm/n2hk31c12wv5pm94flx90n4m0000gn/T/pip-build-env-_agt4cgo/normal/lib/python3.9/site-packages\n",
            "  sysconfig: /Library/Python/3.9/site-packages\u001b[0m\n",
            "\u001b[33m  WARNING: Additional context:\n",
            "  user = False\n",
            "  home = None\n",
            "  root = None\n",
            "  prefix = '/private/var/folders/sm/n2hk31c12wv5pm94flx90n4m0000gn/T/pip-build-env-_agt4cgo/normal'\u001b[0m\n",
            "\u001b[33m  WARNING: Value for prefixed-purelib does not match. Please report this to <https://github.com/pypa/pip/issues/10151>\n",
            "  distutils: /private/var/folders/sm/n2hk31c12wv5pm94flx90n4m0000gn/T/pip-build-env-_agt4cgo/overlay/lib/python3.9/site-packages\n",
            "  sysconfig: /Library/Python/3.9/site-packages\u001b[0m\n",
            "\u001b[33m  WARNING: Value for prefixed-platlib does not match. Please report this to <https://github.com/pypa/pip/issues/10151>\n",
            "  distutils: /private/var/folders/sm/n2hk31c12wv5pm94flx90n4m0000gn/T/pip-build-env-_agt4cgo/overlay/lib/python3.9/site-packages\n",
            "  sysconfig: /Library/Python/3.9/site-packages\u001b[0m\n",
            "\u001b[33m  WARNING: Additional context:\n",
            "  user = False\n",
            "  home = None\n",
            "  root = None\n",
            "  prefix = '/private/var/folders/sm/n2hk31c12wv5pm94flx90n4m0000gn/T/pip-build-env-_agt4cgo/overlay'\u001b[0m\n",
            "  Installing build dependencies ... \u001b[?25ldone\n",
            "\u001b[?25h  Getting requirements to build wheel ... \u001b[?25ldone\n",
            "\u001b[?25h  Installing backend dependencies ... \u001b[?25ldone\n",
            "\u001b[?25h    Preparing wheel metadata ... \u001b[?25ldone\n",
            "\u001b[?25hRequirement already satisfied: numpy>=1.20.0 in /Users/neetigoenka/Library/Python/3.9/lib/python/site-packages (from llama-cpp-python) (1.24.2)\n",
            "Collecting diskcache>=5.6.1\n",
            "  Downloading diskcache-5.6.3-py3-none-any.whl (45 kB)\n",
            "\u001b[K     |████████████████████████████████| 45 kB 10.5 MB/s eta 0:00:01\n",
            "\u001b[?25hRequirement already satisfied: typing-extensions>=4.5.0 in /Users/neetigoenka/Library/Python/3.9/lib/python/site-packages (from llama-cpp-python) (4.8.0)\n",
            "Building wheels for collected packages: llama-cpp-python\n",
            "  Building wheel for llama-cpp-python (PEP 517) ... \u001b[?25ldone\n",
            "\u001b[?25h  Created wheel for llama-cpp-python: filename=llama_cpp_python-0.2.11-cp39-cp39-macosx_13_0_arm64.whl size=903476 sha256=035c7c0e409a1a14f708c385382d8130ae7073c01f2e456495683b0f6ecadb67\n",
            "  Stored in directory: /Users/neetigoenka/Library/Caches/pip/wheels/c1/0b/79/2a9d7c7acbc7b1bc65e724f3d0eecaadcbc217a8c3c858cdfe\n",
            "Successfully built llama-cpp-python\n",
            "Installing collected packages: diskcache, llama-cpp-python\n",
            "Successfully installed diskcache-5.6.3 llama-cpp-python-0.2.11\n",
            "\u001b[33mWARNING: You are using pip version 21.2.4; however, version 23.2.1 is available.\n",
            "You should consider upgrading via the '/Library/Developer/CommandLineTools/usr/bin/python3 -m pip install --upgrade pip' command.\u001b[0m\n"
          ]
        }
      ],
      "source": [
        "!pip3 install llama-index sentence-transformers openai\n",
        "!pip3 install llama-cpp-python"
      ]
    },
    {
      "cell_type": "markdown",
      "metadata": {
        "id": "gHBcfWJ7ll_w"
      },
      "source": [
        "## Workflow for LLamaIndex"
      ]
    },
    {
      "cell_type": "markdown",
      "metadata": {
        "id": "VWcKn7Xclgeb"
      },
      "source": [
        "![llamaindex_flow.png](data:image/png;base64,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)\n",
        "\n",
        "### Workflow Image Credits: [AI Planet](https://aiplanet.com)"
      ]
    },
    {
      "cell_type": "markdown",
      "metadata": {
        "id": "2XxPEQ2mjy-F"
      },
      "source": [
        "## Load the data"
      ]
    },
    {
      "cell_type": "code",
      "execution_count": 12,
      "metadata": {
        "id": "DFRkmvqbjV09"
      },
      "outputs": [],
      "source": [
        "from llama_index import VectorStoreIndex, SimpleDirectoryReader\n",
        "from llama_index.llms import LlamaCPP"
      ]
    },
    {
      "cell_type": "markdown",
      "metadata": {
        "id": "HYLZRFLKl2xK"
      },
      "source": [
        "Create a new folder with `data` or any name. Once you create a new data folder, insde that add your .txt data. You can also add different dataloaders. Refer: [Connector](https://gpt-index.readthedocs.io/en/latest/core_modules/data_modules/connector/root.html)\n",
        "\n",
        "This will load in documents through load_data function.\n",
        "\n",
        "The folder should look like:\n",
        "\n",
        "* data\n",
        "    * my_data.txt\n",
        "\n",
        "Note:\n",
        "- There are two approaches here to proceed:\n",
        "  - 1) OpenAI - using OpenAI API Key\n",
        "  - 2) LLamaCPP - using llama2-13-chat model\n",
        "\n",
        "If you declare OpenAI key, then it will use the GPT model, if not specified by default it will use llama2-13-chat"
      ]
    },
    {
      "cell_type": "code",
      "execution_count": 13,
      "metadata": {
        "colab": {
          "base_uri": "https://localhost:8080/"
        },
        "id": "DKNgrJi90KGt",
        "outputId": "444a64f0-fced-461c-da63-5e8700ffa980"
      },
      "outputs": [
        {
          "name": "stdout",
          "output_type": "stream",
          "text": [
            "Downloading url https://huggingface.co/TheBloke/Llama-2-13B-chat-GGUF/resolve/main/llama-2-13b-chat.Q4_0.gguf to path /Users/neetigoenka/Library/Caches/llama_index/models/llama-2-13b-chat.Q4_0.gguf\n",
            "total size (MB): 7365.83\n"
          ]
        },
        {
          "name": "stderr",
          "output_type": "stream",
          "text": [
            "7025it [06:55, 16.92it/s]                          \n",
            "llama_model_loader: loaded meta data with 19 key-value pairs and 363 tensors from /Users/neetigoenka/Library/Caches/llama_index/models/llama-2-13b-chat.Q4_0.gguf (version GGUF V2 (latest))\n",
            "llama_model_loader: - tensor    0:                token_embd.weight q4_0     [  5120, 32000,     1,     1 ]\n",
            "llama_model_loader: - tensor    1:           blk.0.attn_norm.weight f32      [  5120,     1,     1,     1 ]\n",
            "llama_model_loader: - tensor    2:            blk.0.ffn_down.weight q4_0     [ 13824,  5120,     1,     1 ]\n",
            "llama_model_loader: - tensor    3:            blk.0.ffn_gate.weight q4_0     [  5120, 13824,     1,     1 ]\n",
            "llama_model_loader: - tensor    4:              blk.0.ffn_up.weight q4_0     [  5120, 13824,     1,     1 ]\n",
            "llama_model_loader: - tensor    5:            blk.0.ffn_norm.weight f32      [  5120,     1,     1,     1 ]\n",
            "llama_model_loader: - tensor    6:              blk.0.attn_k.weight q4_0     [  5120,  5120,     1,     1 ]\n",
            "llama_model_loader: - tensor    7:         blk.0.attn_output.weight q4_0     [  5120,  5120,     1,     1 ]\n",
            "llama_model_loader: - tensor    8:              blk.0.attn_q.weight q4_0     [  5120,  5120,     1,     1 ]\n",
            "llama_model_loader: - tensor    9:              blk.0.attn_v.weight q4_0     [  5120,  5120,     1,     1 ]\n",
            "llama_model_loader: - tensor   10:           blk.1.attn_norm.weight f32      [  5120,     1,     1,     1 ]\n",
            "llama_model_loader: - tensor   11:            blk.1.ffn_down.weight q4_0     [ 13824,  5120,     1,     1 ]\n",
            "llama_model_loader: - tensor   12:            blk.1.ffn_gate.weight q4_0     [  5120, 13824,     1,     1 ]\n",
            "llama_model_loader: - tensor   13:              blk.1.ffn_up.weight q4_0     [  5120, 13824,     1,     1 ]\n",
            "llama_model_loader: - tensor   14:            blk.1.ffn_norm.weight f32      [  5120,     1,     1,     1 ]\n",
            "llama_model_loader: - tensor   15:              blk.1.attn_k.weight q4_0     [  5120,  5120,     1,     1 ]\n",
            "llama_model_loader: - tensor   16:         blk.1.attn_output.weight q4_0     [  5120,  5120,     1,     1 ]\n",
            "llama_model_loader: - tensor   17:              blk.1.attn_q.weight q4_0     [  5120,  5120,     1,     1 ]\n",
            "llama_model_loader: - tensor   18:              blk.1.attn_v.weight q4_0     [  5120,  5120,     1,     1 ]\n",
            "llama_model_loader: - tensor   19:          blk.10.attn_norm.weight f32      [  5120,     1,     1,     1 ]\n",
            "llama_model_loader: - tensor   20:           blk.10.ffn_down.weight q4_0     [ 13824,  5120,     1,     1 ]\n",
            "llama_model_loader: - tensor   21:           blk.10.ffn_gate.weight q4_0     [  5120, 13824,     1,     1 ]\n",
            "llama_model_loader: - tensor   22:             blk.10.ffn_up.weight q4_0     [  5120, 13824,     1,     1 ]\n",
            "llama_model_loader: - tensor   23:           blk.10.ffn_norm.weight f32      [  5120,     1,     1,     1 ]\n",
            "llama_model_loader: - tensor   24:             blk.10.attn_k.weight q4_0     [  5120,  5120,     1,     1 ]\n",
            "llama_model_loader: - tensor   25:        blk.10.attn_output.weight q4_0     [  5120,  5120,     1,     1 ]\n",
            "llama_model_loader: - tensor   26:             blk.10.attn_q.weight q4_0     [  5120,  5120,     1,     1 ]\n",
            "llama_model_loader: - tensor   27:             blk.10.attn_v.weight q4_0     [  5120,  5120,     1,     1 ]\n",
            "llama_model_loader: - tensor   28:          blk.11.attn_norm.weight f32      [  5120,     1,     1,     1 ]\n",
            "llama_model_loader: - tensor   29:           blk.11.ffn_down.weight q4_0     [ 13824,  5120,     1,     1 ]\n",
            "llama_model_loader: - tensor   30:           blk.11.ffn_gate.weight q4_0     [  5120, 13824,     1,     1 ]\n",
            "llama_model_loader: - tensor   31:             blk.11.ffn_up.weight q4_0     [  5120, 13824,     1,     1 ]\n",
            "llama_model_loader: - tensor   32:           blk.11.ffn_norm.weight f32      [  5120,     1,     1,     1 ]\n",
            "llama_model_loader: - tensor   33:             blk.11.attn_k.weight q4_0     [  5120,  5120,     1,     1 ]\n",
            "llama_model_loader: - tensor   34:        blk.11.attn_output.weight q4_0     [  5120,  5120,     1,     1 ]\n",
            "llama_model_loader: - tensor   35:             blk.11.attn_q.weight q4_0     [  5120,  5120,     1,     1 ]\n",
            "llama_model_loader: - tensor   36:             blk.11.attn_v.weight q4_0     [  5120,  5120,     1,     1 ]\n",
            "llama_model_loader: - tensor   37:          blk.12.attn_norm.weight f32      [  5120,     1,     1,     1 ]\n",
            "llama_model_loader: - tensor   38:           blk.12.ffn_down.weight q4_0     [ 13824,  5120,     1,     1 ]\n",
            "llama_model_loader: - tensor   39:           blk.12.ffn_gate.weight q4_0     [  5120, 13824,     1,     1 ]\n",
            "llama_model_loader: - tensor   40:             blk.12.ffn_up.weight q4_0     [  5120, 13824,     1,     1 ]\n",
            "llama_model_loader: - tensor   41:           blk.12.ffn_norm.weight f32      [  5120,     1,     1,     1 ]\n",
            "llama_model_loader: - tensor   42:             blk.12.attn_k.weight q4_0     [  5120,  5120,     1,     1 ]\n",
            "llama_model_loader: - tensor   43:        blk.12.attn_output.weight q4_0     [  5120,  5120,     1,     1 ]\n",
            "llama_model_loader: - tensor   44:             blk.12.attn_q.weight q4_0     [  5120,  5120,     1,     1 ]\n",
            "llama_model_loader: - tensor   45:             blk.12.attn_v.weight q4_0     [  5120,  5120,     1,     1 ]\n",
            "llama_model_loader: - tensor   46:          blk.13.attn_norm.weight f32      [  5120,     1,     1,     1 ]\n",
            "llama_model_loader: - tensor   47:           blk.13.ffn_down.weight q4_0     [ 13824,  5120,     1,     1 ]\n",
            "llama_model_loader: - tensor   48:           blk.13.ffn_gate.weight q4_0     [  5120, 13824,     1,     1 ]\n",
            "llama_model_loader: - tensor   49:             blk.13.ffn_up.weight q4_0     [  5120, 13824,     1,     1 ]\n",
            "llama_model_loader: - tensor   50:           blk.13.ffn_norm.weight f32      [  5120,     1,     1,     1 ]\n",
            "llama_model_loader: - tensor   51:             blk.13.attn_k.weight q4_0     [  5120,  5120,     1,     1 ]\n",
            "llama_model_loader: - tensor   52:        blk.13.attn_output.weight q4_0     [  5120,  5120,     1,     1 ]\n",
            "llama_model_loader: - tensor   53:             blk.13.attn_q.weight q4_0     [  5120,  5120,     1,     1 ]\n",
            "llama_model_loader: - tensor   54:             blk.13.attn_v.weight q4_0     [  5120,  5120,     1,     1 ]\n",
            "llama_model_loader: - tensor   55:          blk.14.attn_norm.weight f32      [  5120,     1,     1,     1 ]\n",
            "llama_model_loader: - tensor   56:           blk.14.ffn_down.weight q4_0     [ 13824,  5120,     1,     1 ]\n",
            "llama_model_loader: - tensor   57:           blk.14.ffn_gate.weight q4_0     [  5120, 13824,     1,     1 ]\n",
            "llama_model_loader: - tensor   58:             blk.14.ffn_up.weight q4_0     [  5120, 13824,     1,     1 ]\n",
            "llama_model_loader: - tensor   59:           blk.14.ffn_norm.weight f32      [  5120,     1,     1,     1 ]\n",
            "llama_model_loader: - tensor   60:             blk.14.attn_k.weight q4_0     [  5120,  5120,     1,     1 ]\n",
            "llama_model_loader: - tensor   61:        blk.14.attn_output.weight q4_0     [  5120,  5120,     1,     1 ]\n",
            "llama_model_loader: - tensor   62:             blk.14.attn_q.weight q4_0     [  5120,  5120,     1,     1 ]\n",
            "llama_model_loader: - tensor   63:             blk.14.attn_v.weight q4_0     [  5120,  5120,     1,     1 ]\n",
            "llama_model_loader: - tensor   64:             blk.15.attn_k.weight q4_0     [  5120,  5120,     1,     1 ]\n",
            "llama_model_loader: - tensor   65:             blk.15.attn_q.weight q4_0     [  5120,  5120,     1,     1 ]\n",
            "llama_model_loader: - tensor   66:           blk.2.attn_norm.weight f32      [  5120,     1,     1,     1 ]\n",
            "llama_model_loader: - tensor   67:            blk.2.ffn_down.weight q4_0     [ 13824,  5120,     1,     1 ]\n",
            "llama_model_loader: - tensor   68:            blk.2.ffn_gate.weight q4_0     [  5120, 13824,     1,     1 ]\n",
            "llama_model_loader: - tensor   69:              blk.2.ffn_up.weight q4_0     [  5120, 13824,     1,     1 ]\n",
            "llama_model_loader: - tensor   70:            blk.2.ffn_norm.weight f32      [  5120,     1,     1,     1 ]\n",
            "llama_model_loader: - tensor   71:              blk.2.attn_k.weight q4_0     [  5120,  5120,     1,     1 ]\n",
            "llama_model_loader: - tensor   72:         blk.2.attn_output.weight q4_0     [  5120,  5120,     1,     1 ]\n",
            "llama_model_loader: - tensor   73:              blk.2.attn_q.weight q4_0     [  5120,  5120,     1,     1 ]\n",
            "llama_model_loader: - tensor   74:              blk.2.attn_v.weight q4_0     [  5120,  5120,     1,     1 ]\n",
            "llama_model_loader: - tensor   75:           blk.3.attn_norm.weight f32      [  5120,     1,     1,     1 ]\n",
            "llama_model_loader: - tensor   76:            blk.3.ffn_down.weight q4_0     [ 13824,  5120,     1,     1 ]\n",
            "llama_model_loader: - tensor   77:            blk.3.ffn_gate.weight q4_0     [  5120, 13824,     1,     1 ]\n",
            "llama_model_loader: - tensor   78:              blk.3.ffn_up.weight q4_0     [  5120, 13824,     1,     1 ]\n",
            "llama_model_loader: - tensor   79:            blk.3.ffn_norm.weight f32      [  5120,     1,     1,     1 ]\n",
            "llama_model_loader: - tensor   80:              blk.3.attn_k.weight q4_0     [  5120,  5120,     1,     1 ]\n",
            "llama_model_loader: - tensor   81:         blk.3.attn_output.weight q4_0     [  5120,  5120,     1,     1 ]\n",
            "llama_model_loader: - tensor   82:              blk.3.attn_q.weight q4_0     [  5120,  5120,     1,     1 ]\n",
            "llama_model_loader: - tensor   83:              blk.3.attn_v.weight q4_0     [  5120,  5120,     1,     1 ]\n",
            "llama_model_loader: - tensor   84:           blk.4.attn_norm.weight f32      [  5120,     1,     1,     1 ]\n",
            "llama_model_loader: - tensor   85:            blk.4.ffn_down.weight q4_0     [ 13824,  5120,     1,     1 ]\n",
            "llama_model_loader: - tensor   86:            blk.4.ffn_gate.weight q4_0     [  5120, 13824,     1,     1 ]\n",
            "llama_model_loader: - tensor   87:              blk.4.ffn_up.weight q4_0     [  5120, 13824,     1,     1 ]\n",
            "llama_model_loader: - tensor   88:            blk.4.ffn_norm.weight f32      [  5120,     1,     1,     1 ]\n",
            "llama_model_loader: - tensor   89:              blk.4.attn_k.weight q4_0     [  5120,  5120,     1,     1 ]\n",
            "llama_model_loader: - tensor   90:         blk.4.attn_output.weight q4_0     [  5120,  5120,     1,     1 ]\n",
            "llama_model_loader: - tensor   91:              blk.4.attn_q.weight q4_0     [  5120,  5120,     1,     1 ]\n",
            "llama_model_loader: - tensor   92:              blk.4.attn_v.weight q4_0     [  5120,  5120,     1,     1 ]\n",
            "llama_model_loader: - tensor   93:           blk.5.attn_norm.weight f32      [  5120,     1,     1,     1 ]\n",
            "llama_model_loader: - tensor   94:            blk.5.ffn_down.weight q4_0     [ 13824,  5120,     1,     1 ]\n",
            "llama_model_loader: - tensor   95:            blk.5.ffn_gate.weight q4_0     [  5120, 13824,     1,     1 ]\n",
            "llama_model_loader: - tensor   96:              blk.5.ffn_up.weight q4_0     [  5120, 13824,     1,     1 ]\n",
            "llama_model_loader: - tensor   97:            blk.5.ffn_norm.weight f32      [  5120,     1,     1,     1 ]\n",
            "llama_model_loader: - tensor   98:              blk.5.attn_k.weight q4_0     [  5120,  5120,     1,     1 ]\n",
            "llama_model_loader: - tensor   99:         blk.5.attn_output.weight q4_0     [  5120,  5120,     1,     1 ]\n",
            "llama_model_loader: - tensor  100:              blk.5.attn_q.weight q4_0     [  5120,  5120,     1,     1 ]\n",
            "llama_model_loader: - tensor  101:              blk.5.attn_v.weight q4_0     [  5120,  5120,     1,     1 ]\n",
            "llama_model_loader: - tensor  102:           blk.6.attn_norm.weight f32      [  5120,     1,     1,     1 ]\n",
            "llama_model_loader: - tensor  103:            blk.6.ffn_down.weight q4_0     [ 13824,  5120,     1,     1 ]\n",
            "llama_model_loader: - tensor  104:            blk.6.ffn_gate.weight q4_0     [  5120, 13824,     1,     1 ]\n",
            "llama_model_loader: - tensor  105:              blk.6.ffn_up.weight q4_0     [  5120, 13824,     1,     1 ]\n",
            "llama_model_loader: - tensor  106:            blk.6.ffn_norm.weight f32      [  5120,     1,     1,     1 ]\n",
            "llama_model_loader: - tensor  107:              blk.6.attn_k.weight q4_0     [  5120,  5120,     1,     1 ]\n",
            "llama_model_loader: - tensor  108:         blk.6.attn_output.weight q4_0     [  5120,  5120,     1,     1 ]\n",
            "llama_model_loader: - tensor  109:              blk.6.attn_q.weight q4_0     [  5120,  5120,     1,     1 ]\n",
            "llama_model_loader: - tensor  110:              blk.6.attn_v.weight q4_0     [  5120,  5120,     1,     1 ]\n",
            "llama_model_loader: - tensor  111:           blk.7.attn_norm.weight f32      [  5120,     1,     1,     1 ]\n",
            "llama_model_loader: - tensor  112:            blk.7.ffn_down.weight q4_0     [ 13824,  5120,     1,     1 ]\n",
            "llama_model_loader: - tensor  113:            blk.7.ffn_gate.weight q4_0     [  5120, 13824,     1,     1 ]\n",
            "llama_model_loader: - tensor  114:              blk.7.ffn_up.weight q4_0     [  5120, 13824,     1,     1 ]\n",
            "llama_model_loader: - tensor  115:            blk.7.ffn_norm.weight f32      [  5120,     1,     1,     1 ]\n",
            "llama_model_loader: - tensor  116:              blk.7.attn_k.weight q4_0     [  5120,  5120,     1,     1 ]\n",
            "llama_model_loader: - tensor  117:         blk.7.attn_output.weight q4_0     [  5120,  5120,     1,     1 ]\n",
            "llama_model_loader: - tensor  118:              blk.7.attn_q.weight q4_0     [  5120,  5120,     1,     1 ]\n",
            "llama_model_loader: - tensor  119:              blk.7.attn_v.weight q4_0     [  5120,  5120,     1,     1 ]\n",
            "llama_model_loader: - tensor  120:           blk.8.attn_norm.weight f32      [  5120,     1,     1,     1 ]\n",
            "llama_model_loader: - tensor  121:            blk.8.ffn_down.weight q4_0     [ 13824,  5120,     1,     1 ]\n",
            "llama_model_loader: - tensor  122:            blk.8.ffn_gate.weight q4_0     [  5120, 13824,     1,     1 ]\n",
            "llama_model_loader: - tensor  123:              blk.8.ffn_up.weight q4_0     [  5120, 13824,     1,     1 ]\n",
            "llama_model_loader: - tensor  124:            blk.8.ffn_norm.weight f32      [  5120,     1,     1,     1 ]\n",
            "llama_model_loader: - tensor  125:              blk.8.attn_k.weight q4_0     [  5120,  5120,     1,     1 ]\n",
            "llama_model_loader: - tensor  126:         blk.8.attn_output.weight q4_0     [  5120,  5120,     1,     1 ]\n",
            "llama_model_loader: - tensor  127:              blk.8.attn_q.weight q4_0     [  5120,  5120,     1,     1 ]\n",
            "llama_model_loader: - tensor  128:              blk.8.attn_v.weight q4_0     [  5120,  5120,     1,     1 ]\n",
            "llama_model_loader: - tensor  129:           blk.9.attn_norm.weight f32      [  5120,     1,     1,     1 ]\n",
            "llama_model_loader: - tensor  130:            blk.9.ffn_down.weight q4_0     [ 13824,  5120,     1,     1 ]\n",
            "llama_model_loader: - tensor  131:            blk.9.ffn_gate.weight q4_0     [  5120, 13824,     1,     1 ]\n",
            "llama_model_loader: - tensor  132:              blk.9.ffn_up.weight q4_0     [  5120, 13824,     1,     1 ]\n",
            "llama_model_loader: - tensor  133:            blk.9.ffn_norm.weight f32      [  5120,     1,     1,     1 ]\n",
            "llama_model_loader: - tensor  134:              blk.9.attn_k.weight q4_0     [  5120,  5120,     1,     1 ]\n",
            "llama_model_loader: - tensor  135:         blk.9.attn_output.weight q4_0     [  5120,  5120,     1,     1 ]\n",
            "llama_model_loader: - tensor  136:              blk.9.attn_q.weight q4_0     [  5120,  5120,     1,     1 ]\n",
            "llama_model_loader: - tensor  137:              blk.9.attn_v.weight q4_0     [  5120,  5120,     1,     1 ]\n",
            "llama_model_loader: - tensor  138:          blk.15.attn_norm.weight f32      [  5120,     1,     1,     1 ]\n",
            "llama_model_loader: - tensor  139:           blk.15.ffn_down.weight q4_0     [ 13824,  5120,     1,     1 ]\n",
            "llama_model_loader: - tensor  140:           blk.15.ffn_gate.weight q4_0     [  5120, 13824,     1,     1 ]\n",
            "llama_model_loader: - tensor  141:             blk.15.ffn_up.weight q4_0     [  5120, 13824,     1,     1 ]\n",
            "llama_model_loader: - tensor  142:           blk.15.ffn_norm.weight f32      [  5120,     1,     1,     1 ]\n",
            "llama_model_loader: - tensor  143:        blk.15.attn_output.weight q4_0     [  5120,  5120,     1,     1 ]\n",
            "llama_model_loader: - tensor  144:             blk.15.attn_v.weight q4_0     [  5120,  5120,     1,     1 ]\n",
            "llama_model_loader: - tensor  145:          blk.16.attn_norm.weight f32      [  5120,     1,     1,     1 ]\n",
            "llama_model_loader: - tensor  146:           blk.16.ffn_down.weight q4_0     [ 13824,  5120,     1,     1 ]\n",
            "llama_model_loader: - tensor  147:           blk.16.ffn_gate.weight q4_0     [  5120, 13824,     1,     1 ]\n",
            "llama_model_loader: - tensor  148:             blk.16.ffn_up.weight q4_0     [  5120, 13824,     1,     1 ]\n",
            "llama_model_loader: - tensor  149:           blk.16.ffn_norm.weight f32      [  5120,     1,     1,     1 ]\n",
            "llama_model_loader: - tensor  150:             blk.16.attn_k.weight q4_0     [  5120,  5120,     1,     1 ]\n",
            "llama_model_loader: - tensor  151:        blk.16.attn_output.weight q4_0     [  5120,  5120,     1,     1 ]\n",
            "llama_model_loader: - tensor  152:             blk.16.attn_q.weight q4_0     [  5120,  5120,     1,     1 ]\n",
            "llama_model_loader: - tensor  153:             blk.16.attn_v.weight q4_0     [  5120,  5120,     1,     1 ]\n",
            "llama_model_loader: - tensor  154:          blk.17.attn_norm.weight f32      [  5120,     1,     1,     1 ]\n",
            "llama_model_loader: - tensor  155:           blk.17.ffn_down.weight q4_0     [ 13824,  5120,     1,     1 ]\n",
            "llama_model_loader: - tensor  156:           blk.17.ffn_gate.weight q4_0     [  5120, 13824,     1,     1 ]\n",
            "llama_model_loader: - tensor  157:             blk.17.ffn_up.weight q4_0     [  5120, 13824,     1,     1 ]\n",
            "llama_model_loader: - tensor  158:           blk.17.ffn_norm.weight f32      [  5120,     1,     1,     1 ]\n",
            "llama_model_loader: - tensor  159:             blk.17.attn_k.weight q4_0     [  5120,  5120,     1,     1 ]\n",
            "llama_model_loader: - tensor  160:        blk.17.attn_output.weight q4_0     [  5120,  5120,     1,     1 ]\n",
            "llama_model_loader: - tensor  161:             blk.17.attn_q.weight q4_0     [  5120,  5120,     1,     1 ]\n",
            "llama_model_loader: - tensor  162:             blk.17.attn_v.weight q4_0     [  5120,  5120,     1,     1 ]\n",
            "llama_model_loader: - tensor  163:          blk.18.attn_norm.weight f32      [  5120,     1,     1,     1 ]\n",
            "llama_model_loader: - tensor  164:           blk.18.ffn_down.weight q4_0     [ 13824,  5120,     1,     1 ]\n",
            "llama_model_loader: - tensor  165:           blk.18.ffn_gate.weight q4_0     [  5120, 13824,     1,     1 ]\n",
            "llama_model_loader: - tensor  166:             blk.18.ffn_up.weight q4_0     [  5120, 13824,     1,     1 ]\n",
            "llama_model_loader: - tensor  167:           blk.18.ffn_norm.weight f32      [  5120,     1,     1,     1 ]\n",
            "llama_model_loader: - tensor  168:             blk.18.attn_k.weight q4_0     [  5120,  5120,     1,     1 ]\n",
            "llama_model_loader: - tensor  169:        blk.18.attn_output.weight q4_0     [  5120,  5120,     1,     1 ]\n",
            "llama_model_loader: - tensor  170:             blk.18.attn_q.weight q4_0     [  5120,  5120,     1,     1 ]\n",
            "llama_model_loader: - tensor  171:             blk.18.attn_v.weight q4_0     [  5120,  5120,     1,     1 ]\n",
            "llama_model_loader: - tensor  172:          blk.19.attn_norm.weight f32      [  5120,     1,     1,     1 ]\n",
            "llama_model_loader: - tensor  173:           blk.19.ffn_down.weight q4_0     [ 13824,  5120,     1,     1 ]\n",
            "llama_model_loader: - tensor  174:           blk.19.ffn_gate.weight q4_0     [  5120, 13824,     1,     1 ]\n",
            "llama_model_loader: - tensor  175:             blk.19.ffn_up.weight q4_0     [  5120, 13824,     1,     1 ]\n",
            "llama_model_loader: - tensor  176:           blk.19.ffn_norm.weight f32      [  5120,     1,     1,     1 ]\n",
            "llama_model_loader: - tensor  177:             blk.19.attn_k.weight q4_0     [  5120,  5120,     1,     1 ]\n",
            "llama_model_loader: - tensor  178:        blk.19.attn_output.weight q4_0     [  5120,  5120,     1,     1 ]\n",
            "llama_model_loader: - tensor  179:             blk.19.attn_q.weight q4_0     [  5120,  5120,     1,     1 ]\n",
            "llama_model_loader: - tensor  180:             blk.19.attn_v.weight q4_0     [  5120,  5120,     1,     1 ]\n",
            "llama_model_loader: - tensor  181:          blk.20.attn_norm.weight f32      [  5120,     1,     1,     1 ]\n",
            "llama_model_loader: - tensor  182:           blk.20.ffn_down.weight q4_0     [ 13824,  5120,     1,     1 ]\n",
            "llama_model_loader: - tensor  183:           blk.20.ffn_gate.weight q4_0     [  5120, 13824,     1,     1 ]\n",
            "llama_model_loader: - tensor  184:             blk.20.ffn_up.weight q4_0     [  5120, 13824,     1,     1 ]\n",
            "llama_model_loader: - tensor  185:           blk.20.ffn_norm.weight f32      [  5120,     1,     1,     1 ]\n",
            "llama_model_loader: - tensor  186:             blk.20.attn_k.weight q4_0     [  5120,  5120,     1,     1 ]\n",
            "llama_model_loader: - tensor  187:        blk.20.attn_output.weight q4_0     [  5120,  5120,     1,     1 ]\n",
            "llama_model_loader: - tensor  188:             blk.20.attn_q.weight q4_0     [  5120,  5120,     1,     1 ]\n",
            "llama_model_loader: - tensor  189:             blk.20.attn_v.weight q4_0     [  5120,  5120,     1,     1 ]\n",
            "llama_model_loader: - tensor  190:          blk.21.attn_norm.weight f32      [  5120,     1,     1,     1 ]\n",
            "llama_model_loader: - tensor  191:           blk.21.ffn_down.weight q4_0     [ 13824,  5120,     1,     1 ]\n",
            "llama_model_loader: - tensor  192:           blk.21.ffn_gate.weight q4_0     [  5120, 13824,     1,     1 ]\n",
            "llama_model_loader: - tensor  193:             blk.21.ffn_up.weight q4_0     [  5120, 13824,     1,     1 ]\n",
            "llama_model_loader: - tensor  194:           blk.21.ffn_norm.weight f32      [  5120,     1,     1,     1 ]\n",
            "llama_model_loader: - tensor  195:             blk.21.attn_k.weight q4_0     [  5120,  5120,     1,     1 ]\n",
            "llama_model_loader: - tensor  196:        blk.21.attn_output.weight q4_0     [  5120,  5120,     1,     1 ]\n",
            "llama_model_loader: - tensor  197:             blk.21.attn_q.weight q4_0     [  5120,  5120,     1,     1 ]\n",
            "llama_model_loader: - tensor  198:             blk.21.attn_v.weight q4_0     [  5120,  5120,     1,     1 ]\n",
            "llama_model_loader: - tensor  199:          blk.22.attn_norm.weight f32      [  5120,     1,     1,     1 ]\n",
            "llama_model_loader: - tensor  200:           blk.22.ffn_down.weight q4_0     [ 13824,  5120,     1,     1 ]\n",
            "llama_model_loader: - tensor  201:           blk.22.ffn_gate.weight q4_0     [  5120, 13824,     1,     1 ]\n",
            "llama_model_loader: - tensor  202:             blk.22.ffn_up.weight q4_0     [  5120, 13824,     1,     1 ]\n",
            "llama_model_loader: - tensor  203:           blk.22.ffn_norm.weight f32      [  5120,     1,     1,     1 ]\n",
            "llama_model_loader: - tensor  204:             blk.22.attn_k.weight q4_0     [  5120,  5120,     1,     1 ]\n",
            "llama_model_loader: - tensor  205:        blk.22.attn_output.weight q4_0     [  5120,  5120,     1,     1 ]\n",
            "llama_model_loader: - tensor  206:             blk.22.attn_q.weight q4_0     [  5120,  5120,     1,     1 ]\n",
            "llama_model_loader: - tensor  207:             blk.22.attn_v.weight q4_0     [  5120,  5120,     1,     1 ]\n",
            "llama_model_loader: - tensor  208:          blk.23.attn_norm.weight f32      [  5120,     1,     1,     1 ]\n",
            "llama_model_loader: - tensor  209:           blk.23.ffn_down.weight q4_0     [ 13824,  5120,     1,     1 ]\n",
            "llama_model_loader: - tensor  210:           blk.23.ffn_gate.weight q4_0     [  5120, 13824,     1,     1 ]\n",
            "llama_model_loader: - tensor  211:             blk.23.ffn_up.weight q4_0     [  5120, 13824,     1,     1 ]\n",
            "llama_model_loader: - tensor  212:           blk.23.ffn_norm.weight f32      [  5120,     1,     1,     1 ]\n",
            "llama_model_loader: - tensor  213:             blk.23.attn_k.weight q4_0     [  5120,  5120,     1,     1 ]\n",
            "llama_model_loader: - tensor  214:        blk.23.attn_output.weight q4_0     [  5120,  5120,     1,     1 ]\n",
            "llama_model_loader: - tensor  215:             blk.23.attn_q.weight q4_0     [  5120,  5120,     1,     1 ]\n",
            "llama_model_loader: - tensor  216:             blk.23.attn_v.weight q4_0     [  5120,  5120,     1,     1 ]\n",
            "llama_model_loader: - tensor  217:          blk.24.attn_norm.weight f32      [  5120,     1,     1,     1 ]\n",
            "llama_model_loader: - tensor  218:           blk.24.ffn_down.weight q4_0     [ 13824,  5120,     1,     1 ]\n",
            "llama_model_loader: - tensor  219:           blk.24.ffn_gate.weight q4_0     [  5120, 13824,     1,     1 ]\n",
            "llama_model_loader: - tensor  220:             blk.24.ffn_up.weight q4_0     [  5120, 13824,     1,     1 ]\n",
            "llama_model_loader: - tensor  221:           blk.24.ffn_norm.weight f32      [  5120,     1,     1,     1 ]\n",
            "llama_model_loader: - tensor  222:             blk.24.attn_k.weight q4_0     [  5120,  5120,     1,     1 ]\n",
            "llama_model_loader: - tensor  223:        blk.24.attn_output.weight q4_0     [  5120,  5120,     1,     1 ]\n",
            "llama_model_loader: - tensor  224:             blk.24.attn_q.weight q4_0     [  5120,  5120,     1,     1 ]\n",
            "llama_model_loader: - tensor  225:             blk.24.attn_v.weight q4_0     [  5120,  5120,     1,     1 ]\n",
            "llama_model_loader: - tensor  226:          blk.25.attn_norm.weight f32      [  5120,     1,     1,     1 ]\n",
            "llama_model_loader: - tensor  227:           blk.25.ffn_down.weight q4_0     [ 13824,  5120,     1,     1 ]\n",
            "llama_model_loader: - tensor  228:           blk.25.ffn_gate.weight q4_0     [  5120, 13824,     1,     1 ]\n",
            "llama_model_loader: - tensor  229:             blk.25.ffn_up.weight q4_0     [  5120, 13824,     1,     1 ]\n",
            "llama_model_loader: - tensor  230:           blk.25.ffn_norm.weight f32      [  5120,     1,     1,     1 ]\n",
            "llama_model_loader: - tensor  231:             blk.25.attn_k.weight q4_0     [  5120,  5120,     1,     1 ]\n",
            "llama_model_loader: - tensor  232:        blk.25.attn_output.weight q4_0     [  5120,  5120,     1,     1 ]\n",
            "llama_model_loader: - tensor  233:             blk.25.attn_q.weight q4_0     [  5120,  5120,     1,     1 ]\n",
            "llama_model_loader: - tensor  234:             blk.25.attn_v.weight q4_0     [  5120,  5120,     1,     1 ]\n",
            "llama_model_loader: - tensor  235:          blk.26.attn_norm.weight f32      [  5120,     1,     1,     1 ]\n",
            "llama_model_loader: - tensor  236:           blk.26.ffn_down.weight q4_0     [ 13824,  5120,     1,     1 ]\n",
            "llama_model_loader: - tensor  237:           blk.26.ffn_gate.weight q4_0     [  5120, 13824,     1,     1 ]\n",
            "llama_model_loader: - tensor  238:             blk.26.ffn_up.weight q4_0     [  5120, 13824,     1,     1 ]\n",
            "llama_model_loader: - tensor  239:           blk.26.ffn_norm.weight f32      [  5120,     1,     1,     1 ]\n",
            "llama_model_loader: - tensor  240:             blk.26.attn_k.weight q4_0     [  5120,  5120,     1,     1 ]\n",
            "llama_model_loader: - tensor  241:        blk.26.attn_output.weight q4_0     [  5120,  5120,     1,     1 ]\n",
            "llama_model_loader: - tensor  242:             blk.26.attn_q.weight q4_0     [  5120,  5120,     1,     1 ]\n",
            "llama_model_loader: - tensor  243:             blk.26.attn_v.weight q4_0     [  5120,  5120,     1,     1 ]\n",
            "llama_model_loader: - tensor  244:          blk.27.attn_norm.weight f32      [  5120,     1,     1,     1 ]\n",
            "llama_model_loader: - tensor  245:           blk.27.ffn_down.weight q4_0     [ 13824,  5120,     1,     1 ]\n",
            "llama_model_loader: - tensor  246:           blk.27.ffn_gate.weight q4_0     [  5120, 13824,     1,     1 ]\n",
            "llama_model_loader: - tensor  247:             blk.27.ffn_up.weight q4_0     [  5120, 13824,     1,     1 ]\n",
            "llama_model_loader: - tensor  248:           blk.27.ffn_norm.weight f32      [  5120,     1,     1,     1 ]\n",
            "llama_model_loader: - tensor  249:             blk.27.attn_k.weight q4_0     [  5120,  5120,     1,     1 ]\n",
            "llama_model_loader: - tensor  250:        blk.27.attn_output.weight q4_0     [  5120,  5120,     1,     1 ]\n",
            "llama_model_loader: - tensor  251:             blk.27.attn_q.weight q4_0     [  5120,  5120,     1,     1 ]\n",
            "llama_model_loader: - tensor  252:             blk.27.attn_v.weight q4_0     [  5120,  5120,     1,     1 ]\n",
            "llama_model_loader: - tensor  253:          blk.28.attn_norm.weight f32      [  5120,     1,     1,     1 ]\n",
            "llama_model_loader: - tensor  254:           blk.28.ffn_down.weight q4_0     [ 13824,  5120,     1,     1 ]\n",
            "llama_model_loader: - tensor  255:           blk.28.ffn_gate.weight q4_0     [  5120, 13824,     1,     1 ]\n",
            "llama_model_loader: - tensor  256:             blk.28.ffn_up.weight q4_0     [  5120, 13824,     1,     1 ]\n",
            "llama_model_loader: - tensor  257:           blk.28.ffn_norm.weight f32      [  5120,     1,     1,     1 ]\n",
            "llama_model_loader: - tensor  258:             blk.28.attn_k.weight q4_0     [  5120,  5120,     1,     1 ]\n",
            "llama_model_loader: - tensor  259:        blk.28.attn_output.weight q4_0     [  5120,  5120,     1,     1 ]\n",
            "llama_model_loader: - tensor  260:             blk.28.attn_q.weight q4_0     [  5120,  5120,     1,     1 ]\n",
            "llama_model_loader: - tensor  261:             blk.28.attn_v.weight q4_0     [  5120,  5120,     1,     1 ]\n",
            "llama_model_loader: - tensor  262:          blk.29.attn_norm.weight f32      [  5120,     1,     1,     1 ]\n",
            "llama_model_loader: - tensor  263:           blk.29.ffn_down.weight q4_0     [ 13824,  5120,     1,     1 ]\n",
            "llama_model_loader: - tensor  264:           blk.29.ffn_gate.weight q4_0     [  5120, 13824,     1,     1 ]\n",
            "llama_model_loader: - tensor  265:             blk.29.ffn_up.weight q4_0     [  5120, 13824,     1,     1 ]\n",
            "llama_model_loader: - tensor  266:           blk.29.ffn_norm.weight f32      [  5120,     1,     1,     1 ]\n",
            "llama_model_loader: - tensor  267:             blk.29.attn_k.weight q4_0     [  5120,  5120,     1,     1 ]\n",
            "llama_model_loader: - tensor  268:        blk.29.attn_output.weight q4_0     [  5120,  5120,     1,     1 ]\n",
            "llama_model_loader: - tensor  269:             blk.29.attn_q.weight q4_0     [  5120,  5120,     1,     1 ]\n",
            "llama_model_loader: - tensor  270:             blk.29.attn_v.weight q4_0     [  5120,  5120,     1,     1 ]\n",
            "llama_model_loader: - tensor  271:           blk.30.ffn_gate.weight q4_0     [  5120, 13824,     1,     1 ]\n",
            "llama_model_loader: - tensor  272:             blk.30.ffn_up.weight q4_0     [  5120, 13824,     1,     1 ]\n",
            "llama_model_loader: - tensor  273:             blk.30.attn_k.weight q4_0     [  5120,  5120,     1,     1 ]\n",
            "llama_model_loader: - tensor  274:        blk.30.attn_output.weight q4_0     [  5120,  5120,     1,     1 ]\n",
            "llama_model_loader: - tensor  275:             blk.30.attn_q.weight q4_0     [  5120,  5120,     1,     1 ]\n",
            "llama_model_loader: - tensor  276:             blk.30.attn_v.weight q4_0     [  5120,  5120,     1,     1 ]\n",
            "llama_model_loader: - tensor  277:                    output.weight q6_K     [  5120, 32000,     1,     1 ]\n",
            "llama_model_loader: - tensor  278:          blk.30.attn_norm.weight f32      [  5120,     1,     1,     1 ]\n",
            "llama_model_loader: - tensor  279:           blk.30.ffn_down.weight q4_0     [ 13824,  5120,     1,     1 ]\n",
            "llama_model_loader: - tensor  280:           blk.30.ffn_norm.weight f32      [  5120,     1,     1,     1 ]\n",
            "llama_model_loader: - tensor  281:          blk.31.attn_norm.weight f32      [  5120,     1,     1,     1 ]\n",
            "llama_model_loader: - tensor  282:           blk.31.ffn_down.weight q4_0     [ 13824,  5120,     1,     1 ]\n",
            "llama_model_loader: - tensor  283:           blk.31.ffn_gate.weight q4_0     [  5120, 13824,     1,     1 ]\n",
            "llama_model_loader: - tensor  284:             blk.31.ffn_up.weight q4_0     [  5120, 13824,     1,     1 ]\n",
            "llama_model_loader: - tensor  285:           blk.31.ffn_norm.weight f32      [  5120,     1,     1,     1 ]\n",
            "llama_model_loader: - tensor  286:             blk.31.attn_k.weight q4_0     [  5120,  5120,     1,     1 ]\n",
            "llama_model_loader: - tensor  287:        blk.31.attn_output.weight q4_0     [  5120,  5120,     1,     1 ]\n",
            "llama_model_loader: - tensor  288:             blk.31.attn_q.weight q4_0     [  5120,  5120,     1,     1 ]\n",
            "llama_model_loader: - tensor  289:             blk.31.attn_v.weight q4_0     [  5120,  5120,     1,     1 ]\n",
            "llama_model_loader: - tensor  290:          blk.32.attn_norm.weight f32      [  5120,     1,     1,     1 ]\n",
            "llama_model_loader: - tensor  291:           blk.32.ffn_down.weight q4_0     [ 13824,  5120,     1,     1 ]\n",
            "llama_model_loader: - tensor  292:           blk.32.ffn_gate.weight q4_0     [  5120, 13824,     1,     1 ]\n",
            "llama_model_loader: - tensor  293:             blk.32.ffn_up.weight q4_0     [  5120, 13824,     1,     1 ]\n",
            "llama_model_loader: - tensor  294:           blk.32.ffn_norm.weight f32      [  5120,     1,     1,     1 ]\n",
            "llama_model_loader: - tensor  295:             blk.32.attn_k.weight q4_0     [  5120,  5120,     1,     1 ]\n",
            "llama_model_loader: - tensor  296:        blk.32.attn_output.weight q4_0     [  5120,  5120,     1,     1 ]\n",
            "llama_model_loader: - tensor  297:             blk.32.attn_q.weight q4_0     [  5120,  5120,     1,     1 ]\n",
            "llama_model_loader: - tensor  298:             blk.32.attn_v.weight q4_0     [  5120,  5120,     1,     1 ]\n",
            "llama_model_loader: - tensor  299:          blk.33.attn_norm.weight f32      [  5120,     1,     1,     1 ]\n",
            "llama_model_loader: - tensor  300:           blk.33.ffn_down.weight q4_0     [ 13824,  5120,     1,     1 ]\n",
            "llama_model_loader: - tensor  301:           blk.33.ffn_gate.weight q4_0     [  5120, 13824,     1,     1 ]\n",
            "llama_model_loader: - tensor  302:             blk.33.ffn_up.weight q4_0     [  5120, 13824,     1,     1 ]\n",
            "llama_model_loader: - tensor  303:           blk.33.ffn_norm.weight f32      [  5120,     1,     1,     1 ]\n",
            "llama_model_loader: - tensor  304:             blk.33.attn_k.weight q4_0     [  5120,  5120,     1,     1 ]\n",
            "llama_model_loader: - tensor  305:        blk.33.attn_output.weight q4_0     [  5120,  5120,     1,     1 ]\n",
            "llama_model_loader: - tensor  306:             blk.33.attn_q.weight q4_0     [  5120,  5120,     1,     1 ]\n",
            "llama_model_loader: - tensor  307:             blk.33.attn_v.weight q4_0     [  5120,  5120,     1,     1 ]\n",
            "llama_model_loader: - tensor  308:          blk.34.attn_norm.weight f32      [  5120,     1,     1,     1 ]\n",
            "llama_model_loader: - tensor  309:           blk.34.ffn_down.weight q4_0     [ 13824,  5120,     1,     1 ]\n",
            "llama_model_loader: - tensor  310:           blk.34.ffn_gate.weight q4_0     [  5120, 13824,     1,     1 ]\n",
            "llama_model_loader: - tensor  311:             blk.34.ffn_up.weight q4_0     [  5120, 13824,     1,     1 ]\n",
            "llama_model_loader: - tensor  312:           blk.34.ffn_norm.weight f32      [  5120,     1,     1,     1 ]\n",
            "llama_model_loader: - tensor  313:             blk.34.attn_k.weight q4_0     [  5120,  5120,     1,     1 ]\n",
            "llama_model_loader: - tensor  314:        blk.34.attn_output.weight q4_0     [  5120,  5120,     1,     1 ]\n",
            "llama_model_loader: - tensor  315:             blk.34.attn_q.weight q4_0     [  5120,  5120,     1,     1 ]\n",
            "llama_model_loader: - tensor  316:             blk.34.attn_v.weight q4_0     [  5120,  5120,     1,     1 ]\n",
            "llama_model_loader: - tensor  317:          blk.35.attn_norm.weight f32      [  5120,     1,     1,     1 ]\n",
            "llama_model_loader: - tensor  318:           blk.35.ffn_down.weight q4_0     [ 13824,  5120,     1,     1 ]\n",
            "llama_model_loader: - tensor  319:           blk.35.ffn_gate.weight q4_0     [  5120, 13824,     1,     1 ]\n",
            "llama_model_loader: - tensor  320:             blk.35.ffn_up.weight q4_0     [  5120, 13824,     1,     1 ]\n",
            "llama_model_loader: - tensor  321:           blk.35.ffn_norm.weight f32      [  5120,     1,     1,     1 ]\n",
            "llama_model_loader: - tensor  322:             blk.35.attn_k.weight q4_0     [  5120,  5120,     1,     1 ]\n",
            "llama_model_loader: - tensor  323:        blk.35.attn_output.weight q4_0     [  5120,  5120,     1,     1 ]\n",
            "llama_model_loader: - tensor  324:             blk.35.attn_q.weight q4_0     [  5120,  5120,     1,     1 ]\n",
            "llama_model_loader: - tensor  325:             blk.35.attn_v.weight q4_0     [  5120,  5120,     1,     1 ]\n",
            "llama_model_loader: - tensor  326:          blk.36.attn_norm.weight f32      [  5120,     1,     1,     1 ]\n",
            "llama_model_loader: - tensor  327:           blk.36.ffn_down.weight q4_0     [ 13824,  5120,     1,     1 ]\n",
            "llama_model_loader: - tensor  328:           blk.36.ffn_gate.weight q4_0     [  5120, 13824,     1,     1 ]\n",
            "llama_model_loader: - tensor  329:             blk.36.ffn_up.weight q4_0     [  5120, 13824,     1,     1 ]\n",
            "llama_model_loader: - tensor  330:           blk.36.ffn_norm.weight f32      [  5120,     1,     1,     1 ]\n",
            "llama_model_loader: - tensor  331:             blk.36.attn_k.weight q4_0     [  5120,  5120,     1,     1 ]\n",
            "llama_model_loader: - tensor  332:        blk.36.attn_output.weight q4_0     [  5120,  5120,     1,     1 ]\n",
            "llama_model_loader: - tensor  333:             blk.36.attn_q.weight q4_0     [  5120,  5120,     1,     1 ]\n",
            "llama_model_loader: - tensor  334:             blk.36.attn_v.weight q4_0     [  5120,  5120,     1,     1 ]\n",
            "llama_model_loader: - tensor  335:          blk.37.attn_norm.weight f32      [  5120,     1,     1,     1 ]\n",
            "llama_model_loader: - tensor  336:           blk.37.ffn_down.weight q4_0     [ 13824,  5120,     1,     1 ]\n",
            "llama_model_loader: - tensor  337:           blk.37.ffn_gate.weight q4_0     [  5120, 13824,     1,     1 ]\n",
            "llama_model_loader: - tensor  338:             blk.37.ffn_up.weight q4_0     [  5120, 13824,     1,     1 ]\n",
            "llama_model_loader: - tensor  339:           blk.37.ffn_norm.weight f32      [  5120,     1,     1,     1 ]\n",
            "llama_model_loader: - tensor  340:             blk.37.attn_k.weight q4_0     [  5120,  5120,     1,     1 ]\n",
            "llama_model_loader: - tensor  341:        blk.37.attn_output.weight q4_0     [  5120,  5120,     1,     1 ]\n",
            "llama_model_loader: - tensor  342:             blk.37.attn_q.weight q4_0     [  5120,  5120,     1,     1 ]\n",
            "llama_model_loader: - tensor  343:             blk.37.attn_v.weight q4_0     [  5120,  5120,     1,     1 ]\n",
            "llama_model_loader: - tensor  344:          blk.38.attn_norm.weight f32      [  5120,     1,     1,     1 ]\n",
            "llama_model_loader: - tensor  345:           blk.38.ffn_down.weight q4_0     [ 13824,  5120,     1,     1 ]\n",
            "llama_model_loader: - tensor  346:           blk.38.ffn_gate.weight q4_0     [  5120, 13824,     1,     1 ]\n",
            "llama_model_loader: - tensor  347:             blk.38.ffn_up.weight q4_0     [  5120, 13824,     1,     1 ]\n",
            "llama_model_loader: - tensor  348:           blk.38.ffn_norm.weight f32      [  5120,     1,     1,     1 ]\n",
            "llama_model_loader: - tensor  349:             blk.38.attn_k.weight q4_0     [  5120,  5120,     1,     1 ]\n",
            "llama_model_loader: - tensor  350:        blk.38.attn_output.weight q4_0     [  5120,  5120,     1,     1 ]\n",
            "llama_model_loader: - tensor  351:             blk.38.attn_q.weight q4_0     [  5120,  5120,     1,     1 ]\n",
            "llama_model_loader: - tensor  352:             blk.38.attn_v.weight q4_0     [  5120,  5120,     1,     1 ]\n",
            "llama_model_loader: - tensor  353:          blk.39.attn_norm.weight f32      [  5120,     1,     1,     1 ]\n",
            "llama_model_loader: - tensor  354:           blk.39.ffn_down.weight q4_0     [ 13824,  5120,     1,     1 ]\n",
            "llama_model_loader: - tensor  355:           blk.39.ffn_gate.weight q4_0     [  5120, 13824,     1,     1 ]\n",
            "llama_model_loader: - tensor  356:             blk.39.ffn_up.weight q4_0     [  5120, 13824,     1,     1 ]\n",
            "llama_model_loader: - tensor  357:           blk.39.ffn_norm.weight f32      [  5120,     1,     1,     1 ]\n",
            "llama_model_loader: - tensor  358:             blk.39.attn_k.weight q4_0     [  5120,  5120,     1,     1 ]\n",
            "llama_model_loader: - tensor  359:        blk.39.attn_output.weight q4_0     [  5120,  5120,     1,     1 ]\n",
            "llama_model_loader: - tensor  360:             blk.39.attn_q.weight q4_0     [  5120,  5120,     1,     1 ]\n",
            "llama_model_loader: - tensor  361:             blk.39.attn_v.weight q4_0     [  5120,  5120,     1,     1 ]\n",
            "llama_model_loader: - tensor  362:               output_norm.weight f32      [  5120,     1,     1,     1 ]\n",
            "llama_model_loader: - kv   0:                       general.architecture str     \n",
            "llama_model_loader: - kv   1:                               general.name str     \n",
            "llama_model_loader: - kv   2:                       llama.context_length u32     \n",
            "llama_model_loader: - kv   3:                     llama.embedding_length u32     \n",
            "llama_model_loader: - kv   4:                          llama.block_count u32     \n",
            "llama_model_loader: - kv   5:                  llama.feed_forward_length u32     \n",
            "llama_model_loader: - kv   6:                 llama.rope.dimension_count u32     \n",
            "llama_model_loader: - kv   7:                 llama.attention.head_count u32     \n",
            "llama_model_loader: - kv   8:              llama.attention.head_count_kv u32     \n",
            "llama_model_loader: - kv   9:     llama.attention.layer_norm_rms_epsilon f32     \n",
            "llama_model_loader: - kv  10:                          general.file_type u32     \n",
            "llama_model_loader: - kv  11:                       tokenizer.ggml.model str     \n",
            "llama_model_loader: - kv  12:                      tokenizer.ggml.tokens arr     \n",
            "llama_model_loader: - kv  13:                      tokenizer.ggml.scores arr     \n",
            "llama_model_loader: - kv  14:                  tokenizer.ggml.token_type arr     \n",
            "llama_model_loader: - kv  15:                tokenizer.ggml.bos_token_id u32     \n",
            "llama_model_loader: - kv  16:                tokenizer.ggml.eos_token_id u32     \n",
            "llama_model_loader: - kv  17:            tokenizer.ggml.unknown_token_id u32     \n",
            "llama_model_loader: - kv  18:               general.quantization_version u32     \n",
            "llama_model_loader: - type  f32:   81 tensors\n",
            "llama_model_loader: - type q4_0:  281 tensors\n",
            "llama_model_loader: - type q6_K:    1 tensors\n",
            "llm_load_print_meta: format           = GGUF V2 (latest)\n",
            "llm_load_print_meta: arch             = llama\n",
            "llm_load_print_meta: vocab type       = SPM\n",
            "llm_load_print_meta: n_vocab          = 32000\n",
            "llm_load_print_meta: n_merges         = 0\n",
            "llm_load_print_meta: n_ctx_train      = 4096\n",
            "llm_load_print_meta: n_embd           = 5120\n",
            "llm_load_print_meta: n_head           = 40\n",
            "llm_load_print_meta: n_head_kv        = 40\n",
            "llm_load_print_meta: n_layer          = 40\n",
            "llm_load_print_meta: n_rot            = 128\n",
            "llm_load_print_meta: n_gqa            = 1\n",
            "llm_load_print_meta: f_norm_eps       = 0.0e+00\n",
            "llm_load_print_meta: f_norm_rms_eps   = 1.0e-05\n",
            "llm_load_print_meta: n_ff             = 13824\n",
            "llm_load_print_meta: freq_base_train  = 10000.0\n",
            "llm_load_print_meta: freq_scale_train = 1\n",
            "llm_load_print_meta: model type       = 13B\n",
            "llm_load_print_meta: model ftype      = mostly Q4_0\n",
            "llm_load_print_meta: model params     = 13.02 B\n",
            "llm_load_print_meta: model size       = 6.86 GiB (4.53 BPW) \n",
            "llm_load_print_meta: general.name   = LLaMA v2\n",
            "llm_load_print_meta: BOS token = 1 '<s>'\n",
            "llm_load_print_meta: EOS token = 2 '</s>'\n",
            "llm_load_print_meta: UNK token = 0 '<unk>'\n",
            "llm_load_print_meta: LF token  = 13 '<0x0A>'\n",
            "llm_load_tensors: ggml ctx size =    0.12 MB\n",
            "llm_load_tensors: mem required  = 7024.01 MB\n",
            "...................................................................................................\n",
            "llama_new_context_with_model: n_ctx      = 3900\n",
            "llama_new_context_with_model: freq_base  = 10000.0\n",
            "llama_new_context_with_model: freq_scale = 1\n",
            "llama_new_context_with_model: kv self size  = 3046.88 MB\n",
            "llama_new_context_with_model: compute buffer total size = 348.18 MB\n",
            "AVX = 0 | AVX2 = 0 | AVX512 = 0 | AVX512_VBMI = 0 | AVX512_VNNI = 0 | FMA = 0 | NEON = 1 | ARM_FMA = 1 | F16C = 0 | FP16_VA = 1 | WASM_SIMD = 0 | BLAS = 1 | SSE3 = 0 | SSSE3 = 0 | VSX = 0 | \n"
          ]
        }
      ],
      "source": [
        "import os\n",
        "from getpass import getpass\n",
        "\n",
        "# os.environ['OPENAI_API_KEY'] = getpass()\n",
        "\n",
        "llm = LlamaCPP(\n",
        "    # You can pass in the URL to a GGML model to download it automatically\n",
        "    model_url=\"https://huggingface.co/TheBloke/Llama-2-13B-chat-GGUF/resolve/main/llama-2-13b-chat.Q4_0.gguf\" )"
      ]
    },
    {
      "cell_type": "markdown",
      "metadata": {
        "id": "bQGQyKvh0mm9"
      },
      "source": [
        "We are using OPENAPI_API since it is fast. In absence of API_KEY use the default llama2 model. If you are running Llama model, do change the runtime to GPU"
      ]
    },
    {
      "cell_type": "code",
      "execution_count": 3,
      "metadata": {
        "id": "cewL_KH_jZCQ"
      },
      "outputs": [
        {
          "ename": "ValueError",
          "evalue": "Directory data does not exist.",
          "output_type": "error",
          "traceback": [
            "\u001b[0;31m---------------------------------------------------------------------------\u001b[0m",
            "\u001b[0;31mValueError\u001b[0m                                Traceback (most recent call last)",
            "Cell \u001b[0;32mIn[3], line 1\u001b[0m\n\u001b[0;32m----> 1\u001b[0m documents \u001b[39m=\u001b[39m SimpleDirectoryReader(\u001b[39m'\u001b[39;49m\u001b[39mdata\u001b[39;49m\u001b[39m'\u001b[39;49m)\u001b[39m.\u001b[39mload_data()\n\u001b[1;32m      2\u001b[0m index \u001b[39m=\u001b[39m VectorStoreIndex\u001b[39m.\u001b[39mfrom_documents(documents)\n",
            "File \u001b[0;32m~/Library/Python/3.9/lib/python/site-packages/llama_index/readers/file/base.py:110\u001b[0m, in \u001b[0;36mSimpleDirectoryReader.__init__\u001b[0;34m(self, input_dir, input_files, exclude, exclude_hidden, errors, recursive, encoding, filename_as_id, required_exts, file_extractor, num_files_limit, file_metadata)\u001b[0m\n\u001b[1;32m    108\u001b[0m \u001b[39melif\u001b[39;00m input_dir:\n\u001b[1;32m    109\u001b[0m     \u001b[39mif\u001b[39;00m \u001b[39mnot\u001b[39;00m os\u001b[39m.\u001b[39mpath\u001b[39m.\u001b[39misdir(input_dir):\n\u001b[0;32m--> 110\u001b[0m         \u001b[39mraise\u001b[39;00m \u001b[39mValueError\u001b[39;00m(\u001b[39mf\u001b[39m\u001b[39m\"\u001b[39m\u001b[39mDirectory \u001b[39m\u001b[39m{\u001b[39;00minput_dir\u001b[39m}\u001b[39;00m\u001b[39m does not exist.\u001b[39m\u001b[39m\"\u001b[39m)\n\u001b[1;32m    111\u001b[0m     \u001b[39mself\u001b[39m\u001b[39m.\u001b[39minput_dir \u001b[39m=\u001b[39m Path(input_dir)\n\u001b[1;32m    112\u001b[0m     \u001b[39mself\u001b[39m\u001b[39m.\u001b[39mexclude \u001b[39m=\u001b[39m exclude\n",
            "\u001b[0;31mValueError\u001b[0m: Directory data does not exist."
          ]
        }
      ],
      "source": [
        "documents = SimpleDirectoryReader('data').load_data()\n",
        "index = VectorStoreIndex.from_documents(documents)"
      ]
    },
    {
      "cell_type": "markdown",
      "metadata": {
        "id": "9SG-fqZFmwOS"
      },
      "source": [
        "### This is what our data looks like:"
      ]
    },
    {
      "cell_type": "code",
      "execution_count": 9,
      "metadata": {
        "colab": {
          "base_uri": "https://localhost:8080/"
        },
        "id": "J7Oyep0gmo9N",
        "outputId": "14bb32c0-ae5c-4a27-f3df-6bd335b1b91a"
      },
      "outputs": [
        {
          "name": "stdout",
          "output_type": "stream",
          "text": [
            "The history of Artificial Intelligence (AI) is a fascinating journey that spans several decades and is marked by significant milestones, breakthroughs, and shifts in paradigms. This history can be divided into several key phases:\n",
            "\n",
            "1. **Early Roots (Antiquity to 1940s)**:\n",
            "   - The concept of creating artificial beings with human-like intelligence dates back to ancient myths and legends, such as the story of Pygmalion and Galatea in Greek mythology.\n",
            "   - Mathematician and logician George Boole's work on symbolic logic in the mid-19th century laid the groundwork for AI's logical foundations.\n",
            "   - Alan Turing's 1936 paper, \"On Computable Numbers,\" introduced the idea of a theoretical machine that could simulate any human's thought processes, known as the Turing Machine. This paper is considered a pivotal moment in AI's intellectual history.\n",
            "\n",
            "2. **Early Computers and the Dartmouth Workshop (1940s-1950s)**:\n",
            "   - The development of digital computers during World War II and the post-war years provided the hardware foundation for AI research.\n",
            "   - In 1956, John McCarthy, Marvin Minsky, Nathaniel Rochester, and Claude Shannon organized the Dartmouth Workshop, often regarded as the birth of AI. Participants believed that \"every aspect of learning or any other feature of intelligence can in principle be so precisely described that a machine can be made to simulate it.\"\n",
            "   - Early AI research focused on symbolic AI, using logical reasoning and rule-based systems.\n",
            "\n",
            "3. **The AI Winter (1970s-1980s)**:\n",
            "   - Despite initial enthusiasm, AI research faced significant challenges in the 1970s and 1980s. Progress was slower than expected, leading to a period known as the \"AI winter.\"\n",
            "   - Funding for AI projects dwindled, and public expectations fell as AI systems failed to meet ambitious goals.\n",
            "\n",
            "4. **Expert Systems and Knowledge Representation (1980s)**:\n",
            "   - Expert systems, which encoded human knowledge and reasoning in computer programs, gained prominence during the AI winter.\n",
            "   - The development of languages like LISP and Prolog facilitated knowledge representation and symbolic reasoning.\n",
            "\n",
            "5. **Machine Learning Renaissance (1990s-2000s)**:\n",
            "   - AI research experienced a resurgence with the rise of machine learning algorithms like neural networks and the development of computational power.\n",
            "   - The development of expert systems shifted towards data-driven approaches and statistical learning.\n",
            "   - IBM's Deep Blue defeated chess world champion Garry Kasparov in 1997, showcasing the power of AI in specialized domains.\n",
            "\n",
            "6. **The Era of Big Data (2010s-Present)**:\n",
            "   - Advances in data collection and storage, along with improvements in computational power, have led to breakthroughs in AI.\n",
            "   - Machine learning techniques, particularly deep learning, have achieved remarkable results in areas like image recognition, natural language processing, and robotics.\n",
            "   - Companies like Google, Facebook, and OpenAI have played pivotal roles in pushing the boundaries of AI research.\n",
            "\n",
            "7. **Ethical and Societal Challenges (Present)**:\n",
            "   - As AI systems become more capable and integrated into daily life, ethical concerns related to bias, privacy, job displacement, and autonomous weapons have become prominent.\n",
            "   - Research into AI ethics, fairness, and accountability is gaining momentum.\n",
            "\n",
            "8. **The Path Forward (Future)**:\n",
            "   - AI continues to evolve, with ongoing research in areas like reinforcement learning, explainable AI, and quantum computing.\n",
            "   - The future of AI is likely to involve greater collaboration between humans and machines, focusing on augmenting human intelligence and addressing complex global challenges.\n",
            "\n",
            "The history of AI is marked by periods of optimism, stagnation, and resurgence, but its trajectory continues to shape the modern world, influencing industries, society, and the way we interact with technology. The story of AI is ongoing, and its ultimate impact on humanity is still unfolding.\n"
          ]
        }
      ],
      "source": [
        "print(documents[0].text)"
      ]
    },
    {
      "cell_type": "markdown",
      "metadata": {
        "id": "AYgrdi4PnaWc"
      },
      "source": [
        "A Document represents a lightweight container around the data source. You can now choose to proceed with one of the following steps:\n",
        "\n",
        "- Approach-1: First convert the Document into Node objects\n",
        "- Approach-2: Feed the Document object directly into the index"
      ]
    },
    {
      "cell_type": "markdown",
      "metadata": {
        "id": "PIJ_KON-nwvE"
      },
      "source": [
        "# Parser"
      ]
    },
    {
      "cell_type": "code",
      "execution_count": 4,
      "metadata": {
        "id": "IY1JTBNyne3k"
      },
      "outputs": [],
      "source": [
        "from llama_index.node_parser import SimpleNodeParser"
      ]
    },
    {
      "cell_type": "markdown",
      "metadata": {
        "id": "KiXtqGWWotQ5"
      },
      "source": [
        "Node parsers are a simple abstraction that take a list of documents, and chunk them into Node objects, such that each node is a specific size. When a document is broken into nodes, all of it’s attributes are inherited to the children nodes (i.e. metadata, text and metadata templates, etc.).\n",
        "\n"
      ]
    },
    {
      "cell_type": "code",
      "execution_count": 5,
      "metadata": {
        "id": "dk82W1JjnygC"
      },
      "outputs": [
        {
          "name": "stderr",
          "output_type": "stream",
          "text": [
            "[nltk_data] Error loading punkt: <urlopen error [Errno 54] Connection\n",
            "[nltk_data]     reset by peer>\n"
          ]
        },
        {
          "ename": "NameError",
          "evalue": "name 'documents' is not defined",
          "output_type": "error",
          "traceback": [
            "\u001b[0;31m---------------------------------------------------------------------------\u001b[0m",
            "\u001b[0;31mNameError\u001b[0m                                 Traceback (most recent call last)",
            "Cell \u001b[0;32mIn[5], line 2\u001b[0m\n\u001b[1;32m      1\u001b[0m parser \u001b[39m=\u001b[39m SimpleNodeParser\u001b[39m.\u001b[39mfrom_defaults()\n\u001b[0;32m----> 2\u001b[0m nodes \u001b[39m=\u001b[39m parser\u001b[39m.\u001b[39mget_nodes_from_documents(documents)\n",
            "\u001b[0;31mNameError\u001b[0m: name 'documents' is not defined"
          ]
        }
      ],
      "source": [
        "parser = SimpleNodeParser.from_defaults()\n",
        "nodes = parser.get_nodes_from_documents(documents)"
      ]
    },
    {
      "cell_type": "code",
      "execution_count": 6,
      "metadata": {
        "colab": {
          "base_uri": "https://localhost:8080/"
        },
        "id": "d5rm3lpYn0Np",
        "outputId": "c5fb6a23-52f3-4f8b-ee34-de2a90bbe477"
      },
      "outputs": [
        {
          "ename": "NameError",
          "evalue": "name 'nodes' is not defined",
          "output_type": "error",
          "traceback": [
            "\u001b[0;31m---------------------------------------------------------------------------\u001b[0m",
            "\u001b[0;31mNameError\u001b[0m                                 Traceback (most recent call last)",
            "Cell \u001b[0;32mIn[6], line 1\u001b[0m\n\u001b[0;32m----> 1\u001b[0m nodes[\u001b[39m0\u001b[39m]\n",
            "\u001b[0;31mNameError\u001b[0m: name 'nodes' is not defined"
          ]
        }
      ],
      "source": [
        "nodes[0]"
      ]
    },
    {
      "cell_type": "markdown",
      "metadata": {
        "id": "ccwd2sz_t6u_"
      },
      "source": [
        "# Index\n",
        "\n",
        "Vector Store Index:\n",
        "\n",
        "LlamaIndex also supports different vector stores as the storage backend for GPTVectorStoreIndex or VectorStoreIndex.\n",
        "\n",
        "This will creare embeddings for each node and store it in a Vector Store\n",
        "\n",
        "> Also remember: GPTVectorStoreIndex, by default, LlamaIndex will use OpenAI to create the embedding.\n",
        "\n",
        "\n",
        "![vectorstoreindex](https://gpt-index.readthedocs.io/en/v0.6.8/_images/vector_store.png)\n",
        "\n",
        "\n",
        "### Must Read: [How Each Index Works?](https://gpt-index.readthedocs.io/en/v0.6.8/guides/primer/index_guide.html)"
      ]
    },
    {
      "cell_type": "code",
      "execution_count": 13,
      "metadata": {
        "id": "avvlhr-gpVWw"
      },
      "outputs": [],
      "source": [
        "from llama_index import VectorStoreIndex"
      ]
    },
    {
      "cell_type": "code",
      "execution_count": 14,
      "metadata": {
        "id": "bniaEPmIvnvg"
      },
      "outputs": [],
      "source": [
        "index = VectorStoreIndex(nodes)"
      ]
    },
    {
      "cell_type": "code",
      "execution_count": 15,
      "metadata": {
        "colab": {
          "base_uri": "https://localhost:8080/"
        },
        "id": "zOh7Dl49vo69",
        "outputId": "6f347af8-31b7-4359-b733-5bf1611c6776"
      },
      "outputs": [
        {
          "data": {
            "text/plain": [
              "<llama_index.indices.vector_store.base.VectorStoreIndex at 0x798effd0cd60>"
            ]
          },
          "execution_count": 15,
          "metadata": {},
          "output_type": "execute_result"
        }
      ],
      "source": [
        "index"
      ]
    },
    {
      "cell_type": "markdown",
      "metadata": {
        "id": "FYWj1VGYv7At"
      },
      "source": [
        "# Query Engine\n",
        "\n",
        "Query engine is a generic interface that allows you to ask question over your data.\n",
        "\n",
        "A query engine takes in a natural language query, and returns a rich response. It is most often (but not always) built on one or many Indices via Retrievers. You can compose multiple query engines to achieve more advanced capability."
      ]
    },
    {
      "cell_type": "code",
      "execution_count": 16,
      "metadata": {
        "id": "psSx_hYcv5ll"
      },
      "outputs": [],
      "source": [
        "query_engine = index.as_query_engine()"
      ]
    },
    {
      "cell_type": "code",
      "execution_count": 17,
      "metadata": {
        "id": "xrqO37VOwAtf"
      },
      "outputs": [],
      "source": [
        "response = query_engine.query(\"In what year was Expert Systems and Knowledge Representation found?\")"
      ]
    },
    {
      "cell_type": "code",
      "execution_count": 18,
      "metadata": {
        "colab": {
          "base_uri": "https://localhost:8080/"
        },
        "id": "7mkOk-vNwJaL",
        "outputId": "9816b980-7a9d-41df-cfad-5c9a3782bd27"
      },
      "outputs": [
        {
          "name": "stdout",
          "output_type": "stream",
          "text": [
            "Expert Systems and Knowledge Representation were found in the 1980s.\n"
          ]
        }
      ],
      "source": [
        "print(response)"
      ]
    }
  ],
  "metadata": {
    "accelerator": "GPU",
    "colab": {
      "gpuType": "T4",
      "provenance": []
    },
    "kernelspec": {
      "display_name": "Python 3",
      "name": "python3"
    },
    "language_info": {
      "codemirror_mode": {
        "name": "ipython",
        "version": 3
      },
      "file_extension": ".py",
      "mimetype": "text/x-python",
      "name": "python",
      "nbconvert_exporter": "python",
      "pygments_lexer": "ipython3",
      "version": "3.9.6"
    }
  },
  "nbformat": 4,
  "nbformat_minor": 0
}
