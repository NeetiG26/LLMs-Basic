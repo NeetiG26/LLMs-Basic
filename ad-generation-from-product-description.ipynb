{
  "cells": [
    {
      "cell_type": "markdown",
      "metadata": {
        "id": "ZBtzYNKIYSrX"
      },
      "source": [
        "## Text Generation using GPT2 model\n",
        "\n",
        "### Project: Ads generation from product description"
      ]
    },
    {
      "cell_type": "code",
      "execution_count": 1,
      "metadata": {
        "colab": {
          "base_uri": "https://localhost:8080/"
        },
        "id": "z6s4W2FuuGX5",
        "outputId": "8f17aa0d-d33d-45de-8813-73fae415d96f"
      },
      "outputs": [
        {
          "name": "stdout",
          "output_type": "stream",
          "text": [
            "Defaulting to user installation because normal site-packages is not writeable\n",
            "Requirement already satisfied: datasets in /Users/neetigoenka/Library/Python/3.9/lib/python/site-packages (2.14.5)\n",
            "Requirement already satisfied: transformers in /Users/neetigoenka/Library/Python/3.9/lib/python/site-packages (4.35.0.dev0)\n",
            "Requirement already satisfied: accelerate in /Users/neetigoenka/Library/Python/3.9/lib/python/site-packages (0.23.0)\n",
            "Requirement already satisfied: aiohttp in /Users/neetigoenka/Library/Python/3.9/lib/python/site-packages (from datasets) (3.8.6)\n",
            "Requirement already satisfied: pyyaml>=5.1 in /Users/neetigoenka/Library/Python/3.9/lib/python/site-packages (from datasets) (6.0)\n",
            "Requirement already satisfied: numpy>=1.17 in /Users/neetigoenka/Library/Python/3.9/lib/python/site-packages (from datasets) (1.24.2)\n",
            "Requirement already satisfied: xxhash in /Users/neetigoenka/Library/Python/3.9/lib/python/site-packages (from datasets) (3.4.1)\n",
            "Requirement already satisfied: fsspec[http]<2023.9.0,>=2023.1.0 in /Users/neetigoenka/Library/Python/3.9/lib/python/site-packages (from datasets) (2023.6.0)\n",
            "Requirement already satisfied: huggingface-hub<1.0.0,>=0.14.0 in /Users/neetigoenka/Library/Python/3.9/lib/python/site-packages (from datasets) (0.17.3)\n",
            "Requirement already satisfied: multiprocess in /Users/neetigoenka/Library/Python/3.9/lib/python/site-packages (from datasets) (0.70.15)\n",
            "Requirement already satisfied: pyarrow>=8.0.0 in /Users/neetigoenka/Library/Python/3.9/lib/python/site-packages (from datasets) (13.0.0)\n",
            "Requirement already satisfied: pandas in /Users/neetigoenka/Library/Python/3.9/lib/python/site-packages (from datasets) (1.5.3)\n",
            "Requirement already satisfied: dill<0.3.8,>=0.3.0 in /Users/neetigoenka/Library/Python/3.9/lib/python/site-packages (from datasets) (0.3.7)\n",
            "Requirement already satisfied: tqdm>=4.62.1 in /Users/neetigoenka/Library/Python/3.9/lib/python/site-packages (from datasets) (4.65.0)\n",
            "Requirement already satisfied: requests>=2.19.0 in /Users/neetigoenka/Library/Python/3.9/lib/python/site-packages (from datasets) (2.28.2)\n",
            "Requirement already satisfied: packaging in /Users/neetigoenka/Library/Python/3.9/lib/python/site-packages (from datasets) (23.0)\n",
            "Requirement already satisfied: safetensors>=0.3.1 in /Users/neetigoenka/Library/Python/3.9/lib/python/site-packages (from transformers) (0.4.0)\n",
            "Requirement already satisfied: filelock in /Users/neetigoenka/Library/Python/3.9/lib/python/site-packages (from transformers) (3.10.1)\n",
            "Requirement already satisfied: tokenizers<0.15,>=0.14 in /Users/neetigoenka/Library/Python/3.9/lib/python/site-packages (from transformers) (0.14.1)\n",
            "Requirement already satisfied: regex!=2019.12.17 in /Users/neetigoenka/Library/Python/3.9/lib/python/site-packages (from transformers) (2023.10.3)\n",
            "Requirement already satisfied: torch>=1.10.0 in /Users/neetigoenka/Library/Python/3.9/lib/python/site-packages (from accelerate) (2.1.0)\n",
            "Requirement already satisfied: psutil in /Users/neetigoenka/Library/Python/3.9/lib/python/site-packages (from accelerate) (5.9.4)\n",
            "Requirement already satisfied: attrs>=17.3.0 in /Users/neetigoenka/Library/Python/3.9/lib/python/site-packages (from aiohttp->datasets) (22.2.0)\n",
            "Requirement already satisfied: charset-normalizer<4.0,>=2.0 in /Users/neetigoenka/Library/Python/3.9/lib/python/site-packages (from aiohttp->datasets) (3.1.0)\n",
            "Requirement already satisfied: multidict<7.0,>=4.5 in /Users/neetigoenka/Library/Python/3.9/lib/python/site-packages (from aiohttp->datasets) (6.0.4)\n",
            "Requirement already satisfied: yarl<2.0,>=1.0 in /Users/neetigoenka/Library/Python/3.9/lib/python/site-packages (from aiohttp->datasets) (1.9.2)\n",
            "Requirement already satisfied: aiosignal>=1.1.2 in /Users/neetigoenka/Library/Python/3.9/lib/python/site-packages (from aiohttp->datasets) (1.3.1)\n",
            "Requirement already satisfied: async-timeout<5.0,>=4.0.0a3 in /Users/neetigoenka/Library/Python/3.9/lib/python/site-packages (from aiohttp->datasets) (4.0.3)\n",
            "Requirement already satisfied: frozenlist>=1.1.1 in /Users/neetigoenka/Library/Python/3.9/lib/python/site-packages (from aiohttp->datasets) (1.4.0)\n",
            "Requirement already satisfied: typing-extensions>=3.7.4.3 in /Users/neetigoenka/Library/Python/3.9/lib/python/site-packages (from huggingface-hub<1.0.0,>=0.14.0->datasets) (4.5.0)\n",
            "Requirement already satisfied: urllib3<1.27,>=1.21.1 in /Users/neetigoenka/Library/Python/3.9/lib/python/site-packages (from requests>=2.19.0->datasets) (1.26.15)\n",
            "Requirement already satisfied: idna<4,>=2.5 in /Users/neetigoenka/Library/Python/3.9/lib/python/site-packages (from requests>=2.19.0->datasets) (3.4)\n",
            "Requirement already satisfied: certifi>=2017.4.17 in /Users/neetigoenka/Library/Python/3.9/lib/python/site-packages (from requests>=2.19.0->datasets) (2022.12.7)\n",
            "Requirement already satisfied: networkx in /Users/neetigoenka/Library/Python/3.9/lib/python/site-packages (from torch>=1.10.0->accelerate) (3.0)\n",
            "Requirement already satisfied: jinja2 in /Users/neetigoenka/Library/Python/3.9/lib/python/site-packages (from torch>=1.10.0->accelerate) (3.1.2)\n",
            "Requirement already satisfied: sympy in /Users/neetigoenka/Library/Python/3.9/lib/python/site-packages (from torch>=1.10.0->accelerate) (1.11.1)\n",
            "Requirement already satisfied: MarkupSafe>=2.0 in /Users/neetigoenka/Library/Python/3.9/lib/python/site-packages (from jinja2->torch>=1.10.0->accelerate) (2.1.2)\n",
            "Requirement already satisfied: pytz>=2020.1 in /Users/neetigoenka/Library/Python/3.9/lib/python/site-packages (from pandas->datasets) (2022.7.1)\n",
            "Requirement already satisfied: python-dateutil>=2.8.1 in /Users/neetigoenka/Library/Python/3.9/lib/python/site-packages (from pandas->datasets) (2.8.2)\n",
            "Requirement already satisfied: six>=1.5 in /Library/Developer/CommandLineTools/Library/Frameworks/Python3.framework/Versions/3.9/lib/python3.9/site-packages (from python-dateutil>=2.8.1->pandas->datasets) (1.15.0)\n",
            "Requirement already satisfied: mpmath>=0.19 in /Users/neetigoenka/Library/Python/3.9/lib/python/site-packages (from sympy->torch>=1.10.0->accelerate) (1.3.0)\n",
            "\u001b[33mWARNING: You are using pip version 21.2.4; however, version 23.2.1 is available.\n",
            "You should consider upgrading via the '/Library/Developer/CommandLineTools/usr/bin/python3 -m pip install --upgrade pip' command.\u001b[0m\n"
          ]
        }
      ],
      "source": [
        "!pip3 install datasets transformers accelerate"
      ]
    },
    {
      "cell_type": "code",
      "execution_count": 2,
      "metadata": {
        "id": "8jLjk9lzyLZc"
      },
      "outputs": [],
      "source": [
        "import torch\n",
        "from transformers import TFGPT2LMHeadModel, GPT2Tokenizer\n",
        "from datasets import Dataset"
      ]
    },
    {
      "cell_type": "code",
      "execution_count": 3,
      "metadata": {
        "colab": {
          "base_uri": "https://localhost:8080/"
        },
        "id": "b2L9DzTkyXN6",
        "outputId": "b28db352-1eb9-4391-c084-3a64ce42a89b"
      },
      "outputs": [
        {
          "data": {
            "application/vnd.jupyter.widget-view+json": {
              "model_id": "d40b3c981e6b4849918848ad229a2d5a",
              "version_major": 2,
              "version_minor": 0
            },
            "text/plain": [
              "Downloading (…)olve/main/vocab.json:   0%|          | 0.00/1.04M [00:00<?, ?B/s]"
            ]
          },
          "metadata": {},
          "output_type": "display_data"
        },
        {
          "data": {
            "application/vnd.jupyter.widget-view+json": {
              "model_id": "8f130de3159a43fa8916bc68aac4be94",
              "version_major": 2,
              "version_minor": 0
            },
            "text/plain": [
              "Downloading (…)olve/main/merges.txt:   0%|          | 0.00/456k [00:00<?, ?B/s]"
            ]
          },
          "metadata": {},
          "output_type": "display_data"
        },
        {
          "data": {
            "application/vnd.jupyter.widget-view+json": {
              "model_id": "96c54ff2eb024c419e195a56664d493e",
              "version_major": 2,
              "version_minor": 0
            },
            "text/plain": [
              "Downloading (…)/main/tokenizer.json:   0%|          | 0.00/1.36M [00:00<?, ?B/s]"
            ]
          },
          "metadata": {},
          "output_type": "display_data"
        },
        {
          "data": {
            "application/vnd.jupyter.widget-view+json": {
              "model_id": "e471f564eaf44b4481cf378080283c0e",
              "version_major": 2,
              "version_minor": 0
            },
            "text/plain": [
              "Downloading (…)lve/main/config.json:   0%|          | 0.00/666 [00:00<?, ?B/s]"
            ]
          },
          "metadata": {},
          "output_type": "display_data"
        },
        {
          "data": {
            "application/vnd.jupyter.widget-view+json": {
              "model_id": "402994020d044dc4b733996f6fa67596",
              "version_major": 2,
              "version_minor": 0
            },
            "text/plain": [
              "Downloading model.safetensors:   0%|          | 0.00/3.25G [00:00<?, ?B/s]"
            ]
          },
          "metadata": {},
          "output_type": "display_data"
        },
        {
          "name": "stdout",
          "output_type": "stream",
          "text": [
            "Metal device set to: Apple M2 Pro\n",
            "\n",
            "systemMemory: 16.00 GB\n",
            "maxCacheSize: 5.33 GB\n",
            "\n"
          ]
        },
        {
          "name": "stderr",
          "output_type": "stream",
          "text": [
            "2023-10-12 14:06:29.041013: I tensorflow/core/common_runtime/pluggable_device/pluggable_device_factory.cc:306] Could not identify NUMA node of platform GPU ID 0, defaulting to 0. Your kernel may not have been built with NUMA support.\n",
            "2023-10-12 14:06:29.041549: I tensorflow/core/common_runtime/pluggable_device/pluggable_device_factory.cc:272] Created TensorFlow device (/job:localhost/replica:0/task:0/device:GPU:0 with 0 MB memory) -> physical PluggableDevice (device: 0, name: METAL, pci bus id: <undefined>)\n",
            "All PyTorch model weights were used when initializing TFGPT2LMHeadModel.\n",
            "\n",
            "All the weights of TFGPT2LMHeadModel were initialized from the PyTorch model.\n",
            "If your task is similar to the task the model of the checkpoint was trained on, you can already use TFGPT2LMHeadModel for predictions without further training.\n"
          ]
        }
      ],
      "source": [
        "model_name = \"gpt2-large\"  #or just gpt2\n",
        "tokenizer = GPT2Tokenizer.from_pretrained(model_name)\n",
        "model = TFGPT2LMHeadModel.from_pretrained(model_name, pad_token_id=tokenizer.eos_token_id)"
      ]
    },
    {
      "cell_type": "code",
      "execution_count": 4,
      "metadata": {
        "id": "9SeocY-_0r0A"
      },
      "outputs": [],
      "source": [
        "def generate_advertisement(product_description, max_length=100):\n",
        "    input_text = \"Product: \" + product_description + \"\\nAdvertisement:\"\n",
        "\n",
        "    # Encode input text into ids- tokenization\n",
        "    input_ids = tokenizer.encode(input_text, return_tensors=\"tf\")\n",
        "\n",
        "    # Generate text\n",
        "    output = model.generate(input_ids, max_length=max_length)\n",
        "\n",
        "    # decode the ids back into text\n",
        "    generated_ads = []\n",
        "    for sample in output:\n",
        "        generated_ad = tokenizer.decode(sample, skip_special_tokens=True)\n",
        "        generated_ads.append(generated_ad)\n",
        "\n",
        "    return generated_ads"
      ]
    },
    {
      "cell_type": "code",
      "execution_count": 5,
      "metadata": {
        "id": "PjeLyGGQ1zJx"
      },
      "outputs": [],
      "source": [
        "product_description = \"Introducing our latest smartphone model, with a powerful processor and stunning camera features.\"\n",
        "\n",
        "# Generate advertisements\n",
        "generated_ads = generate_advertisement(product_description, max_length=150)"
      ]
    },
    {
      "cell_type": "markdown",
      "metadata": {
        "id": "sD8yL82RhXNy"
      },
      "source": [
        "### Predicted response"
      ]
    },
    {
      "cell_type": "code",
      "execution_count": 6,
      "metadata": {
        "colab": {
          "base_uri": "https://localhost:8080/"
        },
        "id": "4YBcZoa813gi",
        "outputId": "fca22b7c-4cb1-4050-8c4d-2b90778d079c"
      },
      "outputs": [
        {
          "data": {
            "text/plain": [
              "['Product: Introducing our latest smartphone model, with a powerful processor and stunning camera features.\\nAdvertisement:\\nThe new model is the first to feature a 5.5-inch display, a Qualcomm Snapdragon 810 processor, 4GB of RAM, and a 13MP rear camera with a f/2.0 aperture. The phone also features a fingerprint sensor, a 3,000mAh battery, and a 3,000mAh removable battery. The phone will be available in two colors: black and white.\\nThe phone will be available in China starting on September 1st, and will be priced at 2,499 yuan (about $400).']"
            ]
          },
          "execution_count": 6,
          "metadata": {},
          "output_type": "execute_result"
        }
      ],
      "source": [
        "generated_ads"
      ]
    },
    {
      "cell_type": "markdown",
      "metadata": {
        "id": "yeQjiJq53EnO"
      },
      "source": [
        "## Using Greedy approach-\n",
        "\n",
        "With Greedy search, the word with the highest probability is predicted as the next word:\n",
        "\n",
        "### $w_t=argmax_wP(w|w_1:_t-_1)$\n",
        "\n",
        "Beam search is essentially Greedy Search but the model tracks and keeps num_beams of hypotheses at each time step, so the model is able to compare alternative paths as it generates text. We can also include a n-gram penalty by setting no_repeat_ngram_size = 3 which ensures that no 3-grams appear thrice"
      ]
    },
    {
      "cell_type": "code",
      "execution_count": 7,
      "metadata": {
        "id": "Siga5jOt4HRo"
      },
      "outputs": [],
      "source": [
        "def generate_advertisement_greedy(product_description):\n",
        "    input_text = \"Product: \" + product_description + \"\\nAdvertisement:\"\n",
        "\n",
        "    # Encode input text- use number of beams, ngram size\n",
        "    input_ids = tokenizer.encode(input_text, num_beams = 7,no_repeat_ngram_size=3,num_return_sequences=5,early_stopping = True,return_tensors=\"tf\")\n",
        "\n",
        "    # Generate text\n",
        "    output = model.generate(input_ids, max_length=150)\n",
        "\n",
        "    # decode the ids back into text\n",
        "    generated_ads = []\n",
        "    for sample in output:\n",
        "        generated_ad = tokenizer.decode(sample, skip_special_tokens=True)\n",
        "        generated_ads.append(generated_ad)\n",
        "\n",
        "    return generated_ads"
      ]
    },
    {
      "cell_type": "code",
      "execution_count": 8,
      "metadata": {
        "colab": {
          "base_uri": "https://localhost:8080/"
        },
        "id": "nOJ43Dbx4xQN",
        "outputId": "9da9df9b-ce52-4a94-e25d-f71346fdd3c8"
      },
      "outputs": [
        {
          "name": "stderr",
          "output_type": "stream",
          "text": [
            "Keyword arguments {'num_beams': 7, 'no_repeat_ngram_size': 3, 'num_return_sequences': 5, 'early_stopping': True} not recognized.\n"
          ]
        }
      ],
      "source": [
        "generated_ads_greedy = generate_advertisement_greedy(product_description)"
      ]
    },
    {
      "cell_type": "code",
      "execution_count": 9,
      "metadata": {
        "colab": {
          "base_uri": "https://localhost:8080/"
        },
        "id": "5vYYBYNY43Qo",
        "outputId": "8406e0b5-8b32-4758-af0d-c44198114513"
      },
      "outputs": [
        {
          "data": {
            "text/plain": [
              "['Product: Introducing our latest smartphone model, with a powerful processor and stunning camera features.\\nAdvertisement:\\nThe new model is the first to feature a 5.5-inch display, a Qualcomm Snapdragon 810 processor, 4GB of RAM, and a 13MP rear camera with a f/2.0 aperture. The phone also features a fingerprint sensor, a 3,000mAh battery, and a 3,000mAh removable battery. The phone will be available in two colors: black and white.\\nThe phone will be available in China starting on September 1st, and will be priced at 2,499 yuan (about $400).']"
            ]
          },
          "execution_count": 9,
          "metadata": {},
          "output_type": "execute_result"
        }
      ],
      "source": [
        "generated_ads_greedy"
      ]
    },
    {
      "cell_type": "code",
      "execution_count": null,
      "metadata": {},
      "outputs": [],
      "source": []
    }
  ],
  "metadata": {
    "accelerator": "GPU",
    "colab": {
      "gpuType": "T4",
      "provenance": []
    },
    "kernelspec": {
      "display_name": "Python 3",
      "name": "python3"
    },
    "language_info": {
      "codemirror_mode": {
        "name": "ipython",
        "version": 3
      },
      "file_extension": ".py",
      "mimetype": "text/x-python",
      "name": "python",
      "nbconvert_exporter": "python",
      "pygments_lexer": "ipython3",
      "version": "3.9.6"
    }
  },
  "nbformat": 4,
  "nbformat_minor": 0
}
